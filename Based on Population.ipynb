{
 "cells": [
  {
   "cell_type": "code",
   "execution_count": 1,
   "metadata": {
    "collapsed": true
   },
   "outputs": [],
   "source": [
    "import pandas as pd\n",
    "import numpy as np\n",
    "import matplotlib.pyplot as plt \n",
    "%matplotlib inline\n",
    "import warnings\n",
    "%load_ext autotime\n",
    "warnings.filterwarnings('ignore')"
   ]
  },
  {
   "cell_type": "code",
   "execution_count": 2,
   "metadata": {},
   "outputs": [
    {
     "name": "stdout",
     "output_type": "stream",
     "text": [
      "time: 243 ms\n"
     ]
    }
   ],
   "source": [
    "data =pd.read_csv('IndianCities.csv')"
   ]
  },
  {
   "cell_type": "markdown",
   "metadata": {},
   "source": [
    "\n",
    "```\n",
    "Data of 500 Cities with population more than 1 Lac by Census 2011\n",
    "\n",
    "'name_of_city'                  : Name of the City \n",
    "'state_code'                    : State Code of the City\n",
    "'state_name'                    : State Name of the City\n",
    "'dist_code'                     : District Code where the city belongs ( 99 means multiple district ) \n",
    "'population_total'              : Total Population\n",
    "'population_male'               : Male Population \n",
    "'population_female'             : Female Population\n",
    "'0-6_population_total'          : 0-6 Age Total Population\n",
    "'0-6_population_male'           : 0-6 Age Male Population\n",
    "'0-6_population_female'         : 0-6 Age Female Population\n",
    "'literates_total'               : Total Literates\n",
    "'literates_male'                : Male Literates\n",
    "'literates_female'              : Female Literates \n",
    "'sex_ratio'                     : Sex Ratio \n",
    "'child_sex_ratio'               : Sex ratio in 0-6\n",
    "'effective_literacy_rate_total' : Literacy rate over Age 7 \n",
    "'effective_literacy_rate_male'  : Male Literacy rate over Age 7 \n",
    "'effective_literacy_rate_female': Female Literacy rate over Age 7 \n",
    "'location'                      : Lat,Lng\n",
    "'total_graduates'               : Total Number of Graduates\n",
    "'male_graduates'                : Male Graduates \n",
    "'female_graduates'              : Female Graduates\n",
    "```"
   ]
  },
  {
   "cell_type": "code",
   "execution_count": 11,
   "metadata": {},
   "outputs": [
    {
     "name": "stdout",
     "output_type": "stream",
     "text": [
      "<class 'pandas.core.frame.DataFrame'>\n",
      "RangeIndex: 493 entries, 0 to 492\n",
      "Data columns (total 22 columns):\n",
      "name_of_city                      493 non-null object\n",
      "state_code                        493 non-null int64\n",
      "state_name                        493 non-null object\n",
      "dist_code                         493 non-null int64\n",
      "population_total                  493 non-null int64\n",
      "population_male                   493 non-null int64\n",
      "population_female                 493 non-null int64\n",
      "0-6_population_total              493 non-null int64\n",
      "0-6_population_male               493 non-null int64\n",
      "0-6_population_female             493 non-null int64\n",
      "literates_total                   493 non-null int64\n",
      "literates_male                    493 non-null int64\n",
      "literates_female                  493 non-null int64\n",
      "sex_ratio                         493 non-null int64\n",
      "child_sex_ratio                   493 non-null int64\n",
      "effective_literacy_rate_total     493 non-null float64\n",
      "effective_literacy_rate_male      493 non-null float64\n",
      "effective_literacy_rate_female    493 non-null float64\n",
      "location                          493 non-null object\n",
      "total_graduates                   493 non-null int64\n",
      "male_graduates                    493 non-null int64\n",
      "female_graduates                  493 non-null int64\n",
      "dtypes: float64(3), int64(16), object(3)\n",
      "memory usage: 84.8+ KB\n",
      "time: 182 ms\n"
     ]
    }
   ],
   "source": [
    "data.info()"
   ]
  },
  {
   "cell_type": "code",
   "execution_count": 36,
   "metadata": {},
   "outputs": [
    {
     "data": {
      "text/html": [
       "<div>\n",
       "<style>\n",
       "    .dataframe thead tr:only-child th {\n",
       "        text-align: right;\n",
       "    }\n",
       "\n",
       "    .dataframe thead th {\n",
       "        text-align: left;\n",
       "    }\n",
       "\n",
       "    .dataframe tbody tr th {\n",
       "        vertical-align: top;\n",
       "    }\n",
       "</style>\n",
       "<table border=\"1\" class=\"dataframe\">\n",
       "  <thead>\n",
       "    <tr style=\"text-align: right;\">\n",
       "      <th></th>\n",
       "      <th>name_of_city</th>\n",
       "      <th>state_name</th>\n",
       "      <th>location</th>\n",
       "    </tr>\n",
       "  </thead>\n",
       "  <tbody>\n",
       "    <tr>\n",
       "      <th>count</th>\n",
       "      <td>493</td>\n",
       "      <td>493</td>\n",
       "      <td>493</td>\n",
       "    </tr>\n",
       "    <tr>\n",
       "      <th>unique</th>\n",
       "      <td>492</td>\n",
       "      <td>29</td>\n",
       "      <td>490</td>\n",
       "    </tr>\n",
       "    <tr>\n",
       "      <th>top</th>\n",
       "      <td>Aurangabad</td>\n",
       "      <td>UTTAR PRADESH</td>\n",
       "      <td>26.449923,80.3318736</td>\n",
       "    </tr>\n",
       "    <tr>\n",
       "      <th>freq</th>\n",
       "      <td>2</td>\n",
       "      <td>63</td>\n",
       "      <td>2</td>\n",
       "    </tr>\n",
       "  </tbody>\n",
       "</table>\n",
       "</div>"
      ],
      "text/plain": [
       "       name_of_city     state_name              location\n",
       "count           493            493                   493\n",
       "unique          492             29                   490\n",
       "top     Aurangabad   UTTAR PRADESH  26.449923,80.3318736\n",
       "freq              2             63                     2"
      ]
     },
     "execution_count": 36,
     "metadata": {},
     "output_type": "execute_result"
    },
    {
     "name": "stdout",
     "output_type": "stream",
     "text": [
      "time: 27 ms\n"
     ]
    }
   ],
   "source": [
    "data.describe(include=['object'])"
   ]
  },
  {
   "cell_type": "code",
   "execution_count": 33,
   "metadata": {},
   "outputs": [
    {
     "name": "stdout",
     "output_type": "stream",
     "text": [
      "time: 5 ms\n"
     ]
    }
   ],
   "source": [
    "data=data.reset_index().rename(columns={'index':'citycode'})"
   ]
  },
  {
   "cell_type": "code",
   "execution_count": 37,
   "metadata": {},
   "outputs": [
    {
     "name": "stdout",
     "output_type": "stream",
     "text": [
      "time: 18 ms\n"
     ]
    }
   ],
   "source": [
    "for i in data.describe(include=['object']).columns.tolist():\n",
    "    data[i]=data[i].apply(lambda l: l.strip())"
   ]
  },
  {
   "cell_type": "code",
   "execution_count": 38,
   "metadata": {},
   "outputs": [
    {
     "data": {
      "text/html": [
       "<div>\n",
       "<style>\n",
       "    .dataframe thead tr:only-child th {\n",
       "        text-align: right;\n",
       "    }\n",
       "\n",
       "    .dataframe thead th {\n",
       "        text-align: left;\n",
       "    }\n",
       "\n",
       "    .dataframe tbody tr th {\n",
       "        vertical-align: top;\n",
       "    }\n",
       "</style>\n",
       "<table border=\"1\" class=\"dataframe\">\n",
       "  <thead>\n",
       "    <tr style=\"text-align: right;\">\n",
       "      <th></th>\n",
       "      <th>citycode</th>\n",
       "      <th>name_of_city</th>\n",
       "      <th>state_code</th>\n",
       "      <th>state_name</th>\n",
       "      <th>dist_code</th>\n",
       "      <th>population_total</th>\n",
       "      <th>population_male</th>\n",
       "      <th>population_female</th>\n",
       "      <th>0-6_population_total</th>\n",
       "      <th>0-6_population_male</th>\n",
       "      <th>...</th>\n",
       "      <th>literates_female</th>\n",
       "      <th>sex_ratio</th>\n",
       "      <th>child_sex_ratio</th>\n",
       "      <th>effective_literacy_rate_total</th>\n",
       "      <th>effective_literacy_rate_male</th>\n",
       "      <th>effective_literacy_rate_female</th>\n",
       "      <th>location</th>\n",
       "      <th>total_graduates</th>\n",
       "      <th>male_graduates</th>\n",
       "      <th>female_graduates</th>\n",
       "    </tr>\n",
       "  </thead>\n",
       "  <tbody>\n",
       "    <tr>\n",
       "      <th>34</th>\n",
       "      <td>34</td>\n",
       "      <td>Aurangabad</td>\n",
       "      <td>10</td>\n",
       "      <td>BIHAR</td>\n",
       "      <td>33</td>\n",
       "      <td>101520</td>\n",
       "      <td>53307</td>\n",
       "      <td>48213</td>\n",
       "      <td>14292</td>\n",
       "      <td>7548</td>\n",
       "      <td>...</td>\n",
       "      <td>33458</td>\n",
       "      <td>904</td>\n",
       "      <td>893</td>\n",
       "      <td>86.89</td>\n",
       "      <td>92.52</td>\n",
       "      <td>80.68</td>\n",
       "      <td>24.7457189,84.3804888</td>\n",
       "      <td>13141</td>\n",
       "      <td>9371</td>\n",
       "      <td>3770</td>\n",
       "    </tr>\n",
       "    <tr>\n",
       "      <th>35</th>\n",
       "      <td>35</td>\n",
       "      <td>Aurangabad</td>\n",
       "      <td>27</td>\n",
       "      <td>MAHARASHTRA</td>\n",
       "      <td>19</td>\n",
       "      <td>1171330</td>\n",
       "      <td>610377</td>\n",
       "      <td>560953</td>\n",
       "      <td>151827</td>\n",
       "      <td>81671</td>\n",
       "      <td>...</td>\n",
       "      <td>411321</td>\n",
       "      <td>919</td>\n",
       "      <td>859</td>\n",
       "      <td>89.13</td>\n",
       "      <td>94.08</td>\n",
       "      <td>83.81</td>\n",
       "      <td>19.8761653,75.3433139</td>\n",
       "      <td>159308</td>\n",
       "      <td>96576</td>\n",
       "      <td>62732</td>\n",
       "    </tr>\n",
       "  </tbody>\n",
       "</table>\n",
       "<p>2 rows × 23 columns</p>\n",
       "</div>"
      ],
      "text/plain": [
       "    citycode name_of_city  state_code   state_name  dist_code  \\\n",
       "34        34   Aurangabad          10        BIHAR         33   \n",
       "35        35   Aurangabad          27  MAHARASHTRA         19   \n",
       "\n",
       "    population_total  population_male  population_female  \\\n",
       "34            101520            53307              48213   \n",
       "35           1171330           610377             560953   \n",
       "\n",
       "    0-6_population_total  0-6_population_male       ...         \\\n",
       "34                 14292                 7548       ...          \n",
       "35                151827                81671       ...          \n",
       "\n",
       "    literates_female  sex_ratio  child_sex_ratio  \\\n",
       "34             33458        904              893   \n",
       "35            411321        919              859   \n",
       "\n",
       "    effective_literacy_rate_total  effective_literacy_rate_male  \\\n",
       "34                          86.89                         92.52   \n",
       "35                          89.13                         94.08   \n",
       "\n",
       "    effective_literacy_rate_female               location  total_graduates  \\\n",
       "34                           80.68  24.7457189,84.3804888            13141   \n",
       "35                           83.81  19.8761653,75.3433139           159308   \n",
       "\n",
       "    male_graduates female_graduates  \n",
       "34            9371             3770  \n",
       "35           96576            62732  \n",
       "\n",
       "[2 rows x 23 columns]"
      ]
     },
     "execution_count": 38,
     "metadata": {},
     "output_type": "execute_result"
    },
    {
     "name": "stdout",
     "output_type": "stream",
     "text": [
      "time: 42 ms\n"
     ]
    }
   ],
   "source": [
    "data[data['name_of_city']=='Aurangabad']"
   ]
  },
  {
   "cell_type": "code",
   "execution_count": 57,
   "metadata": {},
   "outputs": [
    {
     "name": "stdout",
     "output_type": "stream",
     "text": [
      "time: 6 ms\n"
     ]
    }
   ],
   "source": [
    "data['latitude']=data['location'].apply(lambda l: float(l.split(',')[0]))\n",
    "data['longitude']=data['location'].apply(lambda l: float(l.split(',')[1]))"
   ]
  },
  {
   "cell_type": "code",
   "execution_count": 127,
   "metadata": {},
   "outputs": [
    {
     "name": "stdout",
     "output_type": "stream",
     "text": [
      "time: 2.93 s\n"
     ]
    }
   ],
   "source": [
    "X=data[['citycode','population_total']].set_index('citycode')"
   ]
  },
  {
   "cell_type": "code",
   "execution_count": 128,
   "metadata": {},
   "outputs": [
    {
     "data": {
      "text/html": [
       "<div>\n",
       "<style>\n",
       "    .dataframe thead tr:only-child th {\n",
       "        text-align: right;\n",
       "    }\n",
       "\n",
       "    .dataframe thead th {\n",
       "        text-align: left;\n",
       "    }\n",
       "\n",
       "    .dataframe tbody tr th {\n",
       "        vertical-align: top;\n",
       "    }\n",
       "</style>\n",
       "<table border=\"1\" class=\"dataframe\">\n",
       "  <thead>\n",
       "    <tr style=\"text-align: right;\">\n",
       "      <th></th>\n",
       "      <th>population_total</th>\n",
       "    </tr>\n",
       "    <tr>\n",
       "      <th>citycode</th>\n",
       "      <th></th>\n",
       "    </tr>\n",
       "  </thead>\n",
       "  <tbody>\n",
       "    <tr>\n",
       "      <th>0</th>\n",
       "      <td>145238</td>\n",
       "    </tr>\n",
       "    <tr>\n",
       "      <th>1</th>\n",
       "      <td>112293</td>\n",
       "    </tr>\n",
       "    <tr>\n",
       "      <th>2</th>\n",
       "      <td>117388</td>\n",
       "    </tr>\n",
       "    <tr>\n",
       "      <th>3</th>\n",
       "      <td>173988</td>\n",
       "    </tr>\n",
       "    <tr>\n",
       "      <th>4</th>\n",
       "      <td>166537</td>\n",
       "    </tr>\n",
       "  </tbody>\n",
       "</table>\n",
       "</div>"
      ],
      "text/plain": [
       "          population_total\n",
       "citycode                  \n",
       "0                   145238\n",
       "1                   112293\n",
       "2                   117388\n",
       "3                   173988\n",
       "4                   166537"
      ]
     },
     "execution_count": 128,
     "metadata": {},
     "output_type": "execute_result"
    },
    {
     "name": "stdout",
     "output_type": "stream",
     "text": [
      "time: 73 ms\n"
     ]
    }
   ],
   "source": [
    "X.head()"
   ]
  },
  {
   "cell_type": "code",
   "execution_count": 129,
   "metadata": {},
   "outputs": [
    {
     "name": "stdout",
     "output_type": "stream",
     "text": [
      "time: 137 ms\n"
     ]
    }
   ],
   "source": [
    "from sklearn.cluster import KMeans\n",
    "kmeans = KMeans(n_clusters=3, random_state=0).fit(X)"
   ]
  },
  {
   "cell_type": "code",
   "execution_count": 130,
   "metadata": {},
   "outputs": [
    {
     "name": "stdout",
     "output_type": "stream",
     "text": [
      "time: 2 ms\n"
     ]
    }
   ],
   "source": [
    "X['Cluster']=kmeans.labels_"
   ]
  },
  {
   "cell_type": "code",
   "execution_count": 131,
   "metadata": {},
   "outputs": [
    {
     "name": "stdout",
     "output_type": "stream",
     "text": [
      "time: 2.32 s\n"
     ]
    }
   ],
   "source": [
    "temp=pd.merge(data,X.reset_index())"
   ]
  },
  {
   "cell_type": "code",
   "execution_count": 132,
   "metadata": {},
   "outputs": [
    {
     "name": "stdout",
     "output_type": "stream",
     "text": [
      "<class 'pandas.core.frame.DataFrame'>\n",
      "Int64Index: 493 entries, 0 to 492\n",
      "Data columns (total 26 columns):\n",
      "citycode                          493 non-null int64\n",
      "name_of_city                      493 non-null object\n",
      "state_code                        493 non-null int64\n",
      "state_name                        493 non-null object\n",
      "dist_code                         493 non-null int64\n",
      "population_total                  493 non-null int64\n",
      "population_male                   493 non-null int64\n",
      "population_female                 493 non-null int64\n",
      "0-6_population_total              493 non-null int64\n",
      "0-6_population_male               493 non-null int64\n",
      "0-6_population_female             493 non-null int64\n",
      "literates_total                   493 non-null int64\n",
      "literates_male                    493 non-null int64\n",
      "literates_female                  493 non-null int64\n",
      "sex_ratio                         493 non-null int64\n",
      "child_sex_ratio                   493 non-null int64\n",
      "effective_literacy_rate_total     493 non-null float64\n",
      "effective_literacy_rate_male      493 non-null float64\n",
      "effective_literacy_rate_female    493 non-null float64\n",
      "location                          493 non-null object\n",
      "total_graduates                   493 non-null int64\n",
      "male_graduates                    493 non-null int64\n",
      "female_graduates                  493 non-null int64\n",
      "latitude                          493 non-null float64\n",
      "longitude                         493 non-null float64\n",
      "Cluster                           493 non-null int32\n",
      "dtypes: float64(5), int32(1), int64(17), object(3)\n",
      "memory usage: 102.1+ KB\n",
      "time: 258 ms\n"
     ]
    }
   ],
   "source": [
    "temp.info()"
   ]
  },
  {
   "cell_type": "code",
   "execution_count": 133,
   "metadata": {},
   "outputs": [
    {
     "name": "stdout",
     "output_type": "stream",
     "text": [
      "{1: 'red', 2: 'blue', 3: 'green', 4: 'white'}\n",
      "time: 511 ms\n"
     ]
    }
   ],
   "source": [
    "import folium\n",
    "map1 = folium.Map()\n",
    "color={1:'red',2:'blue',4:'grey',3:'yellow'}\n",
    "fcolor={1:'red',2:'blue',4:'white',3:'green'}\n",
    "print fcolor\n",
    "for X in set(temp['Cluster']):\n",
    "    if X==0:\n",
    "        continue\n",
    "    for eq in temp[temp['Cluster']==X].iterrows():\n",
    "        folium.CircleMarker([eq[1]['latitude'], eq[1]['longitude']], popup=eq[1]['name_of_city'],radius=10-X*1.5,fill_color=fcolor[X],color=color[X]).add_to(map1)\n",
    "        #print eq[1]['name_of_city']\n"
   ]
  },
  {
   "cell_type": "code",
   "execution_count": 134,
   "metadata": {},
   "outputs": [
    {
     "data": {
      "text/html": [
       "<div style=\"width:100%;\"><div style=\"position:relative;width:100%;height:0;padding-bottom:60%;\"><iframe src=\"data:text/html;charset=utf-8;base64,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\" style=\"position:absolute;width:100%;height:100%;left:0;top:0;border:none !important;\" allowfullscreen webkitallowfullscreen mozallowfullscreen></iframe></div></div>"
      ],
      "text/plain": [
       "<folium.folium.Map at 0xf54aa20>"
      ]
     },
     "execution_count": 134,
     "metadata": {},
     "output_type": "execute_result"
    },
    {
     "name": "stdout",
     "output_type": "stream",
     "text": [
      "time: 82 ms\n"
     ]
    }
   ],
   "source": [
    "map1"
   ]
  },
  {
   "cell_type": "code",
   "execution_count": 137,
   "metadata": {},
   "outputs": [
    {
     "name": "stdout",
     "output_type": "stream",
     "text": [
      "time: 3 ms\n"
     ]
    }
   ],
   "source": [
    "X=data[['citycode','population_total']].set_index('citycode')"
   ]
  },
  {
   "cell_type": "code",
   "execution_count": 138,
   "metadata": {},
   "outputs": [
    {
     "name": "stdout",
     "output_type": "stream",
     "text": [
      "time: 31 ms\n"
     ]
    }
   ],
   "source": [
    "from sklearn.cluster import KMeans\n",
    "kmeans = KMeans(n_clusters=5, random_state=0).fit(X)"
   ]
  },
  {
   "cell_type": "code",
   "execution_count": 139,
   "metadata": {},
   "outputs": [
    {
     "name": "stdout",
     "output_type": "stream",
     "text": [
      "time: 2 ms\n"
     ]
    }
   ],
   "source": [
    "X['Cluster']=kmeans.labels_"
   ]
  },
  {
   "cell_type": "code",
   "execution_count": 140,
   "metadata": {},
   "outputs": [
    {
     "name": "stdout",
     "output_type": "stream",
     "text": [
      "time: 48 ms\n"
     ]
    }
   ],
   "source": [
    "temp=pd.merge(data,X.reset_index())"
   ]
  },
  {
   "cell_type": "code",
   "execution_count": 141,
   "metadata": {},
   "outputs": [
    {
     "name": "stdout",
     "output_type": "stream",
     "text": [
      "<class 'pandas.core.frame.DataFrame'>\n",
      "Int64Index: 493 entries, 0 to 492\n",
      "Data columns (total 26 columns):\n",
      "citycode                          493 non-null int64\n",
      "name_of_city                      493 non-null object\n",
      "state_code                        493 non-null int64\n",
      "state_name                        493 non-null object\n",
      "dist_code                         493 non-null int64\n",
      "population_total                  493 non-null int64\n",
      "population_male                   493 non-null int64\n",
      "population_female                 493 non-null int64\n",
      "0-6_population_total              493 non-null int64\n",
      "0-6_population_male               493 non-null int64\n",
      "0-6_population_female             493 non-null int64\n",
      "literates_total                   493 non-null int64\n",
      "literates_male                    493 non-null int64\n",
      "literates_female                  493 non-null int64\n",
      "sex_ratio                         493 non-null int64\n",
      "child_sex_ratio                   493 non-null int64\n",
      "effective_literacy_rate_total     493 non-null float64\n",
      "effective_literacy_rate_male      493 non-null float64\n",
      "effective_literacy_rate_female    493 non-null float64\n",
      "location                          493 non-null object\n",
      "total_graduates                   493 non-null int64\n",
      "male_graduates                    493 non-null int64\n",
      "female_graduates                  493 non-null int64\n",
      "latitude                          493 non-null float64\n",
      "longitude                         493 non-null float64\n",
      "Cluster                           493 non-null int32\n",
      "dtypes: float64(5), int32(1), int64(17), object(3)\n",
      "memory usage: 102.1+ KB\n",
      "time: 12 ms\n"
     ]
    }
   ],
   "source": [
    "temp.info()"
   ]
  },
  {
   "cell_type": "code",
   "execution_count": 142,
   "metadata": {},
   "outputs": [
    {
     "name": "stdout",
     "output_type": "stream",
     "text": [
      "{1: 'red', 2: 'blue', 3: 'green', 4: 'white'}\n",
      "time: 1.76 s\n"
     ]
    }
   ],
   "source": [
    "import folium\n",
    "map1 = folium.Map()\n",
    "color={1:'red',2:'blue',4:'grey',3:'yellow'}\n",
    "fcolor={1:'red',2:'blue',4:'white',3:'green'}\n",
    "print fcolor\n",
    "for X in set(temp['Cluster']):\n",
    "    if X==0:\n",
    "        continue\n",
    "    for eq in temp[temp['Cluster']==X].iterrows():\n",
    "        folium.CircleMarker([eq[1]['latitude'], eq[1]['longitude']], popup=eq[1]['name_of_city'],radius=10-X*1.5,fill_color=fcolor[X],color=color[X]).add_to(map1)\n",
    "        #print eq[1]['name_of_city']\n"
   ]
  },
  {
   "cell_type": "code",
   "execution_count": 143,
   "metadata": {},
   "outputs": [
    {
     "data": {
      "text/html": [
       "<div style=\"width:100%;\"><div style=\"position:relative;width:100%;height:0;padding-bottom:60%;\"><iframe src=\"data:text/html;charset=utf-8;base64,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\" style=\"position:absolute;width:100%;height:100%;left:0;top:0;border:none !important;\" allowfullscreen webkitallowfullscreen mozallowfullscreen></iframe></div></div>"
      ],
      "text/plain": [
       "<folium.folium.Map at 0xf736320>"
      ]
     },
     "execution_count": 143,
     "metadata": {},
     "output_type": "execute_result"
    },
    {
     "name": "stdout",
     "output_type": "stream",
     "text": [
      "time: 171 ms\n"
     ]
    }
   ],
   "source": [
    "map1"
   ]
  },
  {
   "cell_type": "code",
   "execution_count": null,
   "metadata": {
    "collapsed": true
   },
   "outputs": [],
   "source": []
  },
  {
   "cell_type": "code",
   "execution_count": null,
   "metadata": {},
   "outputs": [],
   "source": []
  },
  {
   "cell_type": "code",
   "execution_count": null,
   "metadata": {
    "collapsed": true
   },
   "outputs": [],
   "source": []
  }
 ],
 "metadata": {
  "kernelspec": {
   "display_name": "Python [Root]",
   "language": "python",
   "name": "Python [Root]"
  },
  "language_info": {
   "codemirror_mode": {
    "name": "ipython",
    "version": 2
   },
   "file_extension": ".py",
   "mimetype": "text/x-python",
   "name": "python",
   "nbconvert_exporter": "python",
   "pygments_lexer": "ipython2",
   "version": "2.7.12"
  }
 },
 "nbformat": 4,
 "nbformat_minor": 1
}
