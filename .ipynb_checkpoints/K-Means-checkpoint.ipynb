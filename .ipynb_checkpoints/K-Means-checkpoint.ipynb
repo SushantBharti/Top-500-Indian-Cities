{
 "cells": [
  {
   "cell_type": "code",
   "execution_count": 1,
   "metadata": {
    "collapsed": true
   },
   "outputs": [],
   "source": [
    "import pandas as pd\n",
    "import numpy as np\n",
    "import matplotlib.pyplot as plt \n",
    "%matplotlib inline\n",
    "import warnings\n",
    "%load_ext autotime\n",
    "warnings.filterwarnings('ignore')"
   ]
  },
  {
   "cell_type": "code",
   "execution_count": 35,
   "metadata": {},
   "outputs": [
    {
     "name": "stdout",
     "output_type": "stream",
     "text": [
      "time: 8 ms\n"
     ]
    }
   ],
   "source": [
    "data =pd.read_csv('IndianCities.csv')"
   ]
  },
  {
   "cell_type": "markdown",
   "metadata": {},
   "source": [
    "\n",
    "```\n",
    "Data of 500 Cities with population more than 1 Lac by Census 2011\n",
    "\n",
    "'name_of_city'                  : Name of the City \n",
    "'state_code'                    : State Code of the City\n",
    "'state_name'                    : State Name of the City\n",
    "'dist_code'                     : District Code where the city belongs ( 99 means multiple district ) \n",
    "'population_total'              : Total Population\n",
    "'population_male'               : Male Population \n",
    "'population_female'             : Female Population\n",
    "'0-6_population_total'          : 0-6 Age Total Population\n",
    "'0-6_population_male'           : 0-6 Age Male Population\n",
    "'0-6_population_female'         : 0-6 Age Female Population\n",
    "'literates_total'               : Total Literates\n",
    "'literates_male'                : Male Literates\n",
    "'literates_female'              : Female Literates \n",
    "'sex_ratio'                     : Sex Ratio \n",
    "'child_sex_ratio'               : Sex ratio in 0-6\n",
    "'effective_literacy_rate_total' : Literacy rate over Age 7 \n",
    "'effective_literacy_rate_male'  : Male Literacy rate over Age 7 \n",
    "'effective_literacy_rate_female': Female Literacy rate over Age 7 \n",
    "'location'                      : Lat,Lng\n",
    "'total_graduates'               : Total Number of Graduates\n",
    "'male_graduates'                : Male Graduates \n",
    "'female_graduates'              : Female Graduates\n",
    "```"
   ]
  },
  {
   "cell_type": "code",
   "execution_count": 36,
   "metadata": {},
   "outputs": [
    {
     "name": "stdout",
     "output_type": "stream",
     "text": [
      "<class 'pandas.core.frame.DataFrame'>\n",
      "RangeIndex: 493 entries, 0 to 492\n",
      "Data columns (total 22 columns):\n",
      "name_of_city                      493 non-null object\n",
      "state_code                        493 non-null int64\n",
      "state_name                        493 non-null object\n",
      "dist_code                         493 non-null int64\n",
      "population_total                  493 non-null int64\n",
      "population_male                   493 non-null int64\n",
      "population_female                 493 non-null int64\n",
      "0-6_population_total              493 non-null int64\n",
      "0-6_population_male               493 non-null int64\n",
      "0-6_population_female             493 non-null int64\n",
      "literates_total                   493 non-null int64\n",
      "literates_male                    493 non-null int64\n",
      "literates_female                  493 non-null int64\n",
      "sex_ratio                         493 non-null int64\n",
      "child_sex_ratio                   493 non-null int64\n",
      "effective_literacy_rate_total     493 non-null float64\n",
      "effective_literacy_rate_male      493 non-null float64\n",
      "effective_literacy_rate_female    493 non-null float64\n",
      "location                          493 non-null object\n",
      "total_graduates                   493 non-null int64\n",
      "male_graduates                    493 non-null int64\n",
      "female_graduates                  493 non-null int64\n",
      "dtypes: float64(3), int64(16), object(3)\n",
      "memory usage: 84.8+ KB\n",
      "time: 8 ms\n"
     ]
    }
   ],
   "source": [
    "data.info()"
   ]
  },
  {
   "cell_type": "code",
   "execution_count": 37,
   "metadata": {},
   "outputs": [
    {
     "data": {
      "text/html": [
       "<div>\n",
       "<style>\n",
       "    .dataframe thead tr:only-child th {\n",
       "        text-align: right;\n",
       "    }\n",
       "\n",
       "    .dataframe thead th {\n",
       "        text-align: left;\n",
       "    }\n",
       "\n",
       "    .dataframe tbody tr th {\n",
       "        vertical-align: top;\n",
       "    }\n",
       "</style>\n",
       "<table border=\"1\" class=\"dataframe\">\n",
       "  <thead>\n",
       "    <tr style=\"text-align: right;\">\n",
       "      <th></th>\n",
       "      <th>name_of_city</th>\n",
       "      <th>state_name</th>\n",
       "      <th>location</th>\n",
       "    </tr>\n",
       "  </thead>\n",
       "  <tbody>\n",
       "    <tr>\n",
       "      <th>count</th>\n",
       "      <td>493</td>\n",
       "      <td>493</td>\n",
       "      <td>493</td>\n",
       "    </tr>\n",
       "    <tr>\n",
       "      <th>unique</th>\n",
       "      <td>492</td>\n",
       "      <td>29</td>\n",
       "      <td>490</td>\n",
       "    </tr>\n",
       "    <tr>\n",
       "      <th>top</th>\n",
       "      <td>Aurangabad</td>\n",
       "      <td>UTTAR PRADESH</td>\n",
       "      <td>26.449923,80.3318736</td>\n",
       "    </tr>\n",
       "    <tr>\n",
       "      <th>freq</th>\n",
       "      <td>2</td>\n",
       "      <td>63</td>\n",
       "      <td>2</td>\n",
       "    </tr>\n",
       "  </tbody>\n",
       "</table>\n",
       "</div>"
      ],
      "text/plain": [
       "       name_of_city     state_name              location\n",
       "count           493            493                   493\n",
       "unique          492             29                   490\n",
       "top     Aurangabad   UTTAR PRADESH  26.449923,80.3318736\n",
       "freq              2             63                     2"
      ]
     },
     "execution_count": 37,
     "metadata": {},
     "output_type": "execute_result"
    },
    {
     "name": "stdout",
     "output_type": "stream",
     "text": [
      "time: 26 ms\n"
     ]
    }
   ],
   "source": [
    "data.describe(include=['object'])"
   ]
  },
  {
   "cell_type": "code",
   "execution_count": 38,
   "metadata": {},
   "outputs": [
    {
     "name": "stdout",
     "output_type": "stream",
     "text": [
      "time: 5 ms\n"
     ]
    }
   ],
   "source": [
    "data=data.reset_index().rename(columns={'index':'citycode'})"
   ]
  },
  {
   "cell_type": "code",
   "execution_count": 39,
   "metadata": {},
   "outputs": [
    {
     "name": "stdout",
     "output_type": "stream",
     "text": [
      "time: 23 ms\n"
     ]
    }
   ],
   "source": [
    "for i in data.describe(include=['object']).columns.tolist():\n",
    "    data[i]=data[i].apply(lambda l: l.strip())"
   ]
  },
  {
   "cell_type": "code",
   "execution_count": 46,
   "metadata": {},
   "outputs": [
    {
     "data": {
      "text/html": [
       "<div>\n",
       "<style>\n",
       "    .dataframe thead tr:only-child th {\n",
       "        text-align: right;\n",
       "    }\n",
       "\n",
       "    .dataframe thead th {\n",
       "        text-align: left;\n",
       "    }\n",
       "\n",
       "    .dataframe tbody tr th {\n",
       "        vertical-align: top;\n",
       "    }\n",
       "</style>\n",
       "<table border=\"1\" class=\"dataframe\">\n",
       "  <thead>\n",
       "    <tr style=\"text-align: right;\">\n",
       "      <th></th>\n",
       "      <th>citycode</th>\n",
       "      <th>name_of_city</th>\n",
       "      <th>state_code</th>\n",
       "      <th>state_name</th>\n",
       "      <th>dist_code</th>\n",
       "      <th>population_total</th>\n",
       "      <th>population_male</th>\n",
       "      <th>population_female</th>\n",
       "      <th>0-6_population_total</th>\n",
       "      <th>0-6_population_male</th>\n",
       "      <th>...</th>\n",
       "      <th>literates_female</th>\n",
       "      <th>sex_ratio</th>\n",
       "      <th>child_sex_ratio</th>\n",
       "      <th>effective_literacy_rate_total</th>\n",
       "      <th>effective_literacy_rate_male</th>\n",
       "      <th>effective_literacy_rate_female</th>\n",
       "      <th>location</th>\n",
       "      <th>total_graduates</th>\n",
       "      <th>male_graduates</th>\n",
       "      <th>female_graduates</th>\n",
       "    </tr>\n",
       "  </thead>\n",
       "  <tbody>\n",
       "  </tbody>\n",
       "</table>\n",
       "<p>0 rows × 23 columns</p>\n",
       "</div>"
      ],
      "text/plain": [
       "Empty DataFrame\n",
       "Columns: [citycode, name_of_city, state_code, state_name, dist_code, population_total, population_male, population_female, 0-6_population_total, 0-6_population_male, 0-6_population_female, literates_total, literates_male, literates_female, sex_ratio, child_sex_ratio, effective_literacy_rate_total, effective_literacy_rate_male, effective_literacy_rate_female, location, total_graduates, male_graduates, female_graduates]\n",
       "Index: []\n",
       "\n",
       "[0 rows x 23 columns]"
      ]
     },
     "execution_count": 46,
     "metadata": {},
     "output_type": "execute_result"
    },
    {
     "name": "stdout",
     "output_type": "stream",
     "text": [
      "time: 15 ms\n"
     ]
    }
   ],
   "source": [
    "data[data['name_of_city']=='Aurangabad']"
   ]
  },
  {
   "cell_type": "code",
   "execution_count": 43,
   "metadata": {},
   "outputs": [
    {
     "name": "stdout",
     "output_type": "stream",
     "text": [
      "time: 49 ms\n"
     ]
    }
   ],
   "source": [
    "data['name_of_city'][data['citycode']==34]='Aurangabad B'"
   ]
  },
  {
   "cell_type": "code",
   "execution_count": 45,
   "metadata": {},
   "outputs": [
    {
     "name": "stdout",
     "output_type": "stream",
     "text": [
      "time: 44 ms\n"
     ]
    }
   ],
   "source": [
    "data['name_of_city'][data['citycode']==35]='Aurangabad M'"
   ]
  },
  {
   "cell_type": "code",
   "execution_count": 47,
   "metadata": {},
   "outputs": [
    {
     "data": {
      "text/plain": [
       "['citycode',\n",
       " 'name_of_city',\n",
       " 'state_code',\n",
       " 'state_name',\n",
       " 'dist_code',\n",
       " 'population_total',\n",
       " 'population_male',\n",
       " 'population_female',\n",
       " '0-6_population_total',\n",
       " '0-6_population_male',\n",
       " '0-6_population_female',\n",
       " 'literates_total',\n",
       " 'literates_male',\n",
       " 'literates_female',\n",
       " 'sex_ratio',\n",
       " 'child_sex_ratio',\n",
       " 'effective_literacy_rate_total',\n",
       " 'effective_literacy_rate_male',\n",
       " 'effective_literacy_rate_female',\n",
       " 'location',\n",
       " 'total_graduates',\n",
       " 'male_graduates',\n",
       " 'female_graduates']"
      ]
     },
     "execution_count": 47,
     "metadata": {},
     "output_type": "execute_result"
    },
    {
     "name": "stdout",
     "output_type": "stream",
     "text": [
      "time: 4 ms\n"
     ]
    }
   ],
   "source": [
    "data.columns.tolist()"
   ]
  },
  {
   "cell_type": "code",
   "execution_count": 48,
   "metadata": {},
   "outputs": [
    {
     "name": "stdout",
     "output_type": "stream",
     "text": [
      "time: 5 ms\n"
     ]
    }
   ],
   "source": [
    "data['latitude']=data['location'].apply(lambda l: float(l.split(',')[0]))\n",
    "data['longitude']=data['location'].apply(lambda l: float(l.split(',')[1]))"
   ]
  },
  {
   "cell_type": "code",
   "execution_count": 49,
   "metadata": {},
   "outputs": [
    {
     "name": "stdout",
     "output_type": "stream",
     "text": [
      "time: 6 ms\n"
     ]
    }
   ],
   "source": [
    "feat=['citycode',\n",
    " #'name_of_city',\n",
    " #'state_code',\n",
    " #'state_name',\n",
    " #'dist_code',\n",
    " 'population_total',\n",
    " 'population_male',\n",
    " 'population_female',\n",
    " '0-6_population_total',\n",
    " '0-6_population_male',\n",
    " '0-6_population_female',\n",
    " 'literates_total',\n",
    " 'literates_male',\n",
    " 'literates_female',\n",
    " 'sex_ratio',\n",
    " 'child_sex_ratio',\n",
    " 'effective_literacy_rate_total',\n",
    " 'effective_literacy_rate_male',\n",
    " 'effective_literacy_rate_female',\n",
    " #'location',\n",
    " 'total_graduates',\n",
    " 'male_graduates',\n",
    " 'female_graduates']"
   ]
  },
  {
   "cell_type": "code",
   "execution_count": 50,
   "metadata": {},
   "outputs": [
    {
     "name": "stdout",
     "output_type": "stream",
     "text": [
      "time: 2.34 s\n"
     ]
    }
   ],
   "source": [
    "X=data[feat].set_index('citycode')"
   ]
  },
  {
   "cell_type": "code",
   "execution_count": 51,
   "metadata": {},
   "outputs": [
    {
     "data": {
      "text/html": [
       "<div>\n",
       "<style>\n",
       "    .dataframe thead tr:only-child th {\n",
       "        text-align: right;\n",
       "    }\n",
       "\n",
       "    .dataframe thead th {\n",
       "        text-align: left;\n",
       "    }\n",
       "\n",
       "    .dataframe tbody tr th {\n",
       "        vertical-align: top;\n",
       "    }\n",
       "</style>\n",
       "<table border=\"1\" class=\"dataframe\">\n",
       "  <thead>\n",
       "    <tr style=\"text-align: right;\">\n",
       "      <th></th>\n",
       "      <th>population_total</th>\n",
       "      <th>population_male</th>\n",
       "      <th>population_female</th>\n",
       "      <th>0-6_population_total</th>\n",
       "      <th>0-6_population_male</th>\n",
       "      <th>0-6_population_female</th>\n",
       "      <th>literates_total</th>\n",
       "      <th>literates_male</th>\n",
       "      <th>literates_female</th>\n",
       "      <th>sex_ratio</th>\n",
       "      <th>child_sex_ratio</th>\n",
       "      <th>effective_literacy_rate_total</th>\n",
       "      <th>effective_literacy_rate_male</th>\n",
       "      <th>effective_literacy_rate_female</th>\n",
       "      <th>total_graduates</th>\n",
       "      <th>male_graduates</th>\n",
       "      <th>female_graduates</th>\n",
       "    </tr>\n",
       "    <tr>\n",
       "      <th>citycode</th>\n",
       "      <th></th>\n",
       "      <th></th>\n",
       "      <th></th>\n",
       "      <th></th>\n",
       "      <th></th>\n",
       "      <th></th>\n",
       "      <th></th>\n",
       "      <th></th>\n",
       "      <th></th>\n",
       "      <th></th>\n",
       "      <th></th>\n",
       "      <th></th>\n",
       "      <th></th>\n",
       "      <th></th>\n",
       "      <th></th>\n",
       "      <th></th>\n",
       "      <th></th>\n",
       "    </tr>\n",
       "  </thead>\n",
       "  <tbody>\n",
       "    <tr>\n",
       "      <th>0</th>\n",
       "      <td>145238</td>\n",
       "      <td>76840</td>\n",
       "      <td>68398</td>\n",
       "      <td>15870</td>\n",
       "      <td>8587</td>\n",
       "      <td>7283</td>\n",
       "      <td>103319</td>\n",
       "      <td>58347</td>\n",
       "      <td>44972</td>\n",
       "      <td>890</td>\n",
       "      <td>848</td>\n",
       "      <td>79.86</td>\n",
       "      <td>85.49</td>\n",
       "      <td>73.59</td>\n",
       "      <td>16287</td>\n",
       "      <td>8612</td>\n",
       "      <td>7675</td>\n",
       "    </tr>\n",
       "    <tr>\n",
       "      <th>1</th>\n",
       "      <td>112293</td>\n",
       "      <td>58256</td>\n",
       "      <td>54037</td>\n",
       "      <td>11810</td>\n",
       "      <td>6186</td>\n",
       "      <td>5624</td>\n",
       "      <td>92433</td>\n",
       "      <td>49347</td>\n",
       "      <td>43086</td>\n",
       "      <td>928</td>\n",
       "      <td>909</td>\n",
       "      <td>91.99</td>\n",
       "      <td>94.77</td>\n",
       "      <td>89.00</td>\n",
       "      <td>8863</td>\n",
       "      <td>5269</td>\n",
       "      <td>3594</td>\n",
       "    </tr>\n",
       "    <tr>\n",
       "      <th>2</th>\n",
       "      <td>117388</td>\n",
       "      <td>59232</td>\n",
       "      <td>58156</td>\n",
       "      <td>13103</td>\n",
       "      <td>6731</td>\n",
       "      <td>6372</td>\n",
       "      <td>83955</td>\n",
       "      <td>46295</td>\n",
       "      <td>37660</td>\n",
       "      <td>982</td>\n",
       "      <td>947</td>\n",
       "      <td>80.51</td>\n",
       "      <td>88.18</td>\n",
       "      <td>72.73</td>\n",
       "      <td>10565</td>\n",
       "      <td>6797</td>\n",
       "      <td>3768</td>\n",
       "    </tr>\n",
       "    <tr>\n",
       "      <th>3</th>\n",
       "      <td>173988</td>\n",
       "      <td>91495</td>\n",
       "      <td>82493</td>\n",
       "      <td>23042</td>\n",
       "      <td>12063</td>\n",
       "      <td>10979</td>\n",
       "      <td>125985</td>\n",
       "      <td>71470</td>\n",
       "      <td>54515</td>\n",
       "      <td>902</td>\n",
       "      <td>910</td>\n",
       "      <td>83.46</td>\n",
       "      <td>89.98</td>\n",
       "      <td>76.23</td>\n",
       "      <td>19225</td>\n",
       "      <td>12189</td>\n",
       "      <td>7036</td>\n",
       "    </tr>\n",
       "    <tr>\n",
       "      <th>4</th>\n",
       "      <td>166537</td>\n",
       "      <td>82743</td>\n",
       "      <td>83794</td>\n",
       "      <td>18406</td>\n",
       "      <td>9355</td>\n",
       "      <td>9051</td>\n",
       "      <td>101292</td>\n",
       "      <td>56203</td>\n",
       "      <td>45089</td>\n",
       "      <td>1013</td>\n",
       "      <td>968</td>\n",
       "      <td>68.38</td>\n",
       "      <td>76.58</td>\n",
       "      <td>60.33</td>\n",
       "      <td>11902</td>\n",
       "      <td>7871</td>\n",
       "      <td>4031</td>\n",
       "    </tr>\n",
       "  </tbody>\n",
       "</table>\n",
       "</div>"
      ],
      "text/plain": [
       "          population_total  population_male  population_female  \\\n",
       "citycode                                                         \n",
       "0                   145238            76840              68398   \n",
       "1                   112293            58256              54037   \n",
       "2                   117388            59232              58156   \n",
       "3                   173988            91495              82493   \n",
       "4                   166537            82743              83794   \n",
       "\n",
       "          0-6_population_total  0-6_population_male  0-6_population_female  \\\n",
       "citycode                                                                     \n",
       "0                        15870                 8587                   7283   \n",
       "1                        11810                 6186                   5624   \n",
       "2                        13103                 6731                   6372   \n",
       "3                        23042                12063                  10979   \n",
       "4                        18406                 9355                   9051   \n",
       "\n",
       "          literates_total  literates_male  literates_female  sex_ratio  \\\n",
       "citycode                                                                 \n",
       "0                  103319           58347             44972        890   \n",
       "1                   92433           49347             43086        928   \n",
       "2                   83955           46295             37660        982   \n",
       "3                  125985           71470             54515        902   \n",
       "4                  101292           56203             45089       1013   \n",
       "\n",
       "          child_sex_ratio  effective_literacy_rate_total  \\\n",
       "citycode                                                   \n",
       "0                     848                          79.86   \n",
       "1                     909                          91.99   \n",
       "2                     947                          80.51   \n",
       "3                     910                          83.46   \n",
       "4                     968                          68.38   \n",
       "\n",
       "          effective_literacy_rate_male  effective_literacy_rate_female  \\\n",
       "citycode                                                                 \n",
       "0                                85.49                           73.59   \n",
       "1                                94.77                           89.00   \n",
       "2                                88.18                           72.73   \n",
       "3                                89.98                           76.23   \n",
       "4                                76.58                           60.33   \n",
       "\n",
       "          total_graduates  male_graduates  female_graduates  \n",
       "citycode                                                     \n",
       "0                   16287            8612              7675  \n",
       "1                    8863            5269              3594  \n",
       "2                   10565            6797              3768  \n",
       "3                   19225           12189              7036  \n",
       "4                   11902            7871              4031  "
      ]
     },
     "execution_count": 51,
     "metadata": {},
     "output_type": "execute_result"
    },
    {
     "name": "stdout",
     "output_type": "stream",
     "text": [
      "time: 29 ms\n"
     ]
    }
   ],
   "source": [
    "X.head()"
   ]
  },
  {
   "cell_type": "code",
   "execution_count": 52,
   "metadata": {},
   "outputs": [
    {
     "name": "stdout",
     "output_type": "stream",
     "text": [
      "time: 7.79 s\n"
     ]
    }
   ],
   "source": [
    "from sklearn.cluster import KMeans\n",
    "kmeans = KMeans(n_clusters=3, random_state=0).fit(X)"
   ]
  },
  {
   "cell_type": "code",
   "execution_count": 53,
   "metadata": {},
   "outputs": [
    {
     "name": "stdout",
     "output_type": "stream",
     "text": [
      "time: 3 ms\n"
     ]
    }
   ],
   "source": [
    "X['Cluster']=kmeans.labels_"
   ]
  },
  {
   "cell_type": "code",
   "execution_count": 54,
   "metadata": {},
   "outputs": [
    {
     "name": "stdout",
     "output_type": "stream",
     "text": [
      "time: 222 ms\n"
     ]
    }
   ],
   "source": [
    "temp1=pd.merge(data,X.reset_index())"
   ]
  },
  {
   "cell_type": "code",
   "execution_count": 55,
   "metadata": {},
   "outputs": [
    {
     "name": "stdout",
     "output_type": "stream",
     "text": [
      "<class 'pandas.core.frame.DataFrame'>\n",
      "Int64Index: 493 entries, 0 to 492\n",
      "Data columns (total 26 columns):\n",
      "citycode                          493 non-null int64\n",
      "name_of_city                      493 non-null object\n",
      "state_code                        493 non-null int64\n",
      "state_name                        493 non-null object\n",
      "dist_code                         493 non-null int64\n",
      "population_total                  493 non-null int64\n",
      "population_male                   493 non-null int64\n",
      "population_female                 493 non-null int64\n",
      "0-6_population_total              493 non-null int64\n",
      "0-6_population_male               493 non-null int64\n",
      "0-6_population_female             493 non-null int64\n",
      "literates_total                   493 non-null int64\n",
      "literates_male                    493 non-null int64\n",
      "literates_female                  493 non-null int64\n",
      "sex_ratio                         493 non-null int64\n",
      "child_sex_ratio                   493 non-null int64\n",
      "effective_literacy_rate_total     493 non-null float64\n",
      "effective_literacy_rate_male      493 non-null float64\n",
      "effective_literacy_rate_female    493 non-null float64\n",
      "location                          493 non-null object\n",
      "total_graduates                   493 non-null int64\n",
      "male_graduates                    493 non-null int64\n",
      "female_graduates                  493 non-null int64\n",
      "latitude                          493 non-null float64\n",
      "longitude                         493 non-null float64\n",
      "Cluster                           493 non-null int32\n",
      "dtypes: float64(5), int32(1), int64(17), object(3)\n",
      "memory usage: 102.1+ KB\n",
      "time: 9 ms\n"
     ]
    }
   ],
   "source": [
    "temp1.info()"
   ]
  },
  {
   "cell_type": "code",
   "execution_count": 56,
   "metadata": {},
   "outputs": [
    {
     "data": {
      "text/plain": [
       "0    480\n",
       "1     10\n",
       "2      3\n",
       "Name: Cluster, dtype: int64"
      ]
     },
     "execution_count": 56,
     "metadata": {},
     "output_type": "execute_result"
    },
    {
     "name": "stdout",
     "output_type": "stream",
     "text": [
      "time: 5 ms\n"
     ]
    }
   ],
   "source": [
    "temp1['Cluster'].value_counts()"
   ]
  },
  {
   "cell_type": "code",
   "execution_count": 57,
   "metadata": {},
   "outputs": [
    {
     "name": "stdout",
     "output_type": "stream",
     "text": [
      "{1: 'red', 2: 'blue', 3: 'green', 4: 'white'}\n",
      "time: 1.41 s\n"
     ]
    }
   ],
   "source": [
    "import folium\n",
    "map1 = folium.Map()\n",
    "color={1:'red',2:'blue',4:'grey',3:'yellow'}\n",
    "fcolor={1:'red',2:'blue',4:'white',3:'green'}\n",
    "print fcolor\n",
    "for X in set(temp1['Cluster']):\n",
    "    if X==0:\n",
    "        continue\n",
    "    for eq in temp1[temp1['Cluster']==X].iterrows():\n",
    "        folium.CircleMarker([eq[1]['latitude'], eq[1]['longitude']], popup=eq[1]['name_of_city'],radius=10-X*1.5,fill_color=fcolor[X],color=color[X]).add_to(map1)\n",
    "        #print eq[1]['name_of_city']\n"
   ]
  },
  {
   "cell_type": "code",
   "execution_count": 58,
   "metadata": {},
   "outputs": [
    {
     "data": {
      "text/html": [
       "<div style=\"width:100%;\"><div style=\"position:relative;width:100%;height:0;padding-bottom:60%;\"><iframe src=\"data:text/html;charset=utf-8;base64,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\" style=\"position:absolute;width:100%;height:100%;left:0;top:0;border:none !important;\" allowfullscreen webkitallowfullscreen mozallowfullscreen></iframe></div></div>"
      ],
      "text/plain": [
       "<folium.folium.Map at 0xbe8f470>"
      ]
     },
     "execution_count": 58,
     "metadata": {},
     "output_type": "execute_result"
    },
    {
     "name": "stdout",
     "output_type": "stream",
     "text": [
      "time: 106 ms\n"
     ]
    }
   ],
   "source": [
    "map1"
   ]
  },
  {
   "cell_type": "code",
   "execution_count": 59,
   "metadata": {},
   "outputs": [
    {
     "name": "stdout",
     "output_type": "stream",
     "text": [
      "Error in callback <bound method LineWatcher.stop of <autotime.LineWatcher object at 0x00000000096F8470>> (for post_run_cell):\n"
     ]
    },
    {
     "ename": "AssertionError",
     "evalue": "",
     "output_type": "error",
     "traceback": [
      "\u001b[1;31m---------------------------------------------------------------------------\u001b[0m",
      "\u001b[1;31mAssertionError\u001b[0m                            Traceback (most recent call last)",
      "\u001b[1;32mC:\\Users\\sushant\\.ipython\\extensions\\autotime.pyc\u001b[0m in \u001b[0;36mstop\u001b[1;34m(self)\u001b[0m\n\u001b[0;32m     23\u001b[0m         \u001b[1;32mif\u001b[0m \u001b[0mself\u001b[0m\u001b[1;33m.\u001b[0m\u001b[0mstart_time\u001b[0m\u001b[1;33m:\u001b[0m\u001b[1;33m\u001b[0m\u001b[0m\n\u001b[0;32m     24\u001b[0m             \u001b[0mdiff\u001b[0m \u001b[1;33m=\u001b[0m \u001b[0mtime\u001b[0m\u001b[1;33m.\u001b[0m\u001b[0mtime\u001b[0m\u001b[1;33m(\u001b[0m\u001b[1;33m)\u001b[0m \u001b[1;33m-\u001b[0m \u001b[0mself\u001b[0m\u001b[1;33m.\u001b[0m\u001b[0mstart_time\u001b[0m\u001b[1;33m\u001b[0m\u001b[0m\n\u001b[1;32m---> 25\u001b[1;33m             \u001b[1;32massert\u001b[0m \u001b[0mdiff\u001b[0m \u001b[1;33m>\u001b[0m \u001b[1;36m0\u001b[0m\u001b[1;33m\u001b[0m\u001b[0m\n\u001b[0m\u001b[0;32m     26\u001b[0m             \u001b[1;32mprint\u001b[0m\u001b[1;33m(\u001b[0m\u001b[1;34m'time: %s'\u001b[0m \u001b[1;33m%\u001b[0m \u001b[0mformat_delta\u001b[0m\u001b[1;33m(\u001b[0m\u001b[0mdiff\u001b[0m\u001b[1;33m)\u001b[0m\u001b[1;33m)\u001b[0m\u001b[1;33m\u001b[0m\u001b[0m\n\u001b[0;32m     27\u001b[0m \u001b[1;33m\u001b[0m\u001b[0m\n",
      "\u001b[1;31mAssertionError\u001b[0m: "
     ]
    }
   ],
   "source": [
    "X=data[feat].set_index('citycode')"
   ]
  },
  {
   "cell_type": "code",
   "execution_count": 60,
   "metadata": {},
   "outputs": [
    {
     "name": "stdout",
     "output_type": "stream",
     "text": [
      "time: 46 ms\n"
     ]
    }
   ],
   "source": [
    "from sklearn.cluster import KMeans\n",
    "kmeans = KMeans(n_clusters=5, random_state=0).fit(X)"
   ]
  },
  {
   "cell_type": "code",
   "execution_count": 61,
   "metadata": {},
   "outputs": [
    {
     "name": "stdout",
     "output_type": "stream",
     "text": [
      "time: 2 ms\n"
     ]
    }
   ],
   "source": [
    "X['Cluster']=kmeans.labels_"
   ]
  },
  {
   "cell_type": "code",
   "execution_count": 62,
   "metadata": {},
   "outputs": [
    {
     "name": "stdout",
     "output_type": "stream",
     "text": [
      "time: 13 ms\n"
     ]
    }
   ],
   "source": [
    "temp2=pd.merge(data,X.reset_index())"
   ]
  },
  {
   "cell_type": "code",
   "execution_count": 63,
   "metadata": {},
   "outputs": [
    {
     "name": "stdout",
     "output_type": "stream",
     "text": [
      "<class 'pandas.core.frame.DataFrame'>\n",
      "Int64Index: 493 entries, 0 to 492\n",
      "Data columns (total 26 columns):\n",
      "citycode                          493 non-null int64\n",
      "name_of_city                      493 non-null object\n",
      "state_code                        493 non-null int64\n",
      "state_name                        493 non-null object\n",
      "dist_code                         493 non-null int64\n",
      "population_total                  493 non-null int64\n",
      "population_male                   493 non-null int64\n",
      "population_female                 493 non-null int64\n",
      "0-6_population_total              493 non-null int64\n",
      "0-6_population_male               493 non-null int64\n",
      "0-6_population_female             493 non-null int64\n",
      "literates_total                   493 non-null int64\n",
      "literates_male                    493 non-null int64\n",
      "literates_female                  493 non-null int64\n",
      "sex_ratio                         493 non-null int64\n",
      "child_sex_ratio                   493 non-null int64\n",
      "effective_literacy_rate_total     493 non-null float64\n",
      "effective_literacy_rate_male      493 non-null float64\n",
      "effective_literacy_rate_female    493 non-null float64\n",
      "location                          493 non-null object\n",
      "total_graduates                   493 non-null int64\n",
      "male_graduates                    493 non-null int64\n",
      "female_graduates                  493 non-null int64\n",
      "latitude                          493 non-null float64\n",
      "longitude                         493 non-null float64\n",
      "Cluster                           493 non-null int32\n",
      "dtypes: float64(5), int32(1), int64(17), object(3)\n",
      "memory usage: 102.1+ KB\n",
      "time: 9 ms\n"
     ]
    }
   ],
   "source": [
    "temp2.info()"
   ]
  },
  {
   "cell_type": "code",
   "execution_count": 64,
   "metadata": {},
   "outputs": [
    {
     "data": {
      "text/plain": [
       "3    433\n",
       "0     47\n",
       "2      8\n",
       "1      3\n",
       "4      2\n",
       "Name: Cluster, dtype: int64"
      ]
     },
     "execution_count": 64,
     "metadata": {},
     "output_type": "execute_result"
    },
    {
     "name": "stdout",
     "output_type": "stream",
     "text": [
      "time: 6 ms\n"
     ]
    }
   ],
   "source": [
    "temp2['Cluster'].value_counts()"
   ]
  },
  {
   "cell_type": "code",
   "execution_count": 65,
   "metadata": {},
   "outputs": [
    {
     "name": "stdout",
     "output_type": "stream",
     "text": [
      "{0: 'yellow', 1: 'red', 2: 'blue', 4: 'white'}\n",
      "time: 1.78 s\n"
     ]
    }
   ],
   "source": [
    "import folium\n",
    "map1 = folium.Map()\n",
    "#color={1:'red',2:'blue',4:'grey',3:'green'}\n",
    "fcolor={1:'red',2:'blue',4:'white',0:'yellow'}\n",
    "print fcolor\n",
    "for X in set(temp2['Cluster']):\n",
    "    if X==3:\n",
    "        continue\n",
    "    for eq in temp2[temp2['Cluster']==X].iterrows():\n",
    "        folium.CircleMarker([eq[1]['latitude'], eq[1]['longitude']], popup=str(eq[1]['name_of_city'])+', Cluster '+str(eq[1]['Cluster']),radius=8-X*1.5,fill_color=fcolor[X],color=fcolor[X]).add_to(map1)\n",
    "        #print eq[1]['name_of_city']\n"
   ]
  },
  {
   "cell_type": "code",
   "execution_count": 66,
   "metadata": {},
   "outputs": [
    {
     "data": {
      "text/html": [
       "<div style=\"width:100%;\"><div style=\"position:relative;width:100%;height:0;padding-bottom:60%;\"><iframe src=\"data:text/html;charset=utf-8;base64,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\" style=\"position:absolute;width:100%;height:100%;left:0;top:0;border:none !important;\" allowfullscreen webkitallowfullscreen mozallowfullscreen></iframe></div></div>"
      ],
      "text/plain": [
       "<folium.folium.Map at 0xc0865f8>"
      ]
     },
     "execution_count": 66,
     "metadata": {},
     "output_type": "execute_result"
    },
    {
     "name": "stdout",
     "output_type": "stream",
     "text": [
      "time: 232 ms\n"
     ]
    }
   ],
   "source": [
    "map1"
   ]
  },
  {
   "cell_type": "code",
   "execution_count": null,
   "metadata": {
    "collapsed": true
   },
   "outputs": [],
   "source": []
  },
  {
   "cell_type": "code",
   "execution_count": 67,
   "metadata": {},
   "outputs": [
    {
     "name": "stdout",
     "output_type": "stream",
     "text": [
      "time: 6 ms\n"
     ]
    }
   ],
   "source": [
    "X=data[feat].set_index('citycode')"
   ]
  },
  {
   "cell_type": "code",
   "execution_count": 68,
   "metadata": {},
   "outputs": [
    {
     "name": "stdout",
     "output_type": "stream",
     "text": [
      "time: 294 ms\n"
     ]
    }
   ],
   "source": [
    "from sklearn.cluster import KMeans\n",
    "kmeans = KMeans(n_clusters=8, random_state=0).fit(X)"
   ]
  },
  {
   "cell_type": "code",
   "execution_count": 69,
   "metadata": {},
   "outputs": [
    {
     "name": "stdout",
     "output_type": "stream",
     "text": [
      "time: 2 ms\n"
     ]
    }
   ],
   "source": [
    "X['Cluster']=kmeans.labels_"
   ]
  },
  {
   "cell_type": "code",
   "execution_count": 70,
   "metadata": {},
   "outputs": [
    {
     "name": "stdout",
     "output_type": "stream",
     "text": [
      "time: 13 ms\n"
     ]
    }
   ],
   "source": [
    "temp3=pd.merge(data,X.reset_index())"
   ]
  },
  {
   "cell_type": "code",
   "execution_count": 71,
   "metadata": {},
   "outputs": [
    {
     "name": "stdout",
     "output_type": "stream",
     "text": [
      "<class 'pandas.core.frame.DataFrame'>\n",
      "Int64Index: 493 entries, 0 to 492\n",
      "Data columns (total 26 columns):\n",
      "citycode                          493 non-null int64\n",
      "name_of_city                      493 non-null object\n",
      "state_code                        493 non-null int64\n",
      "state_name                        493 non-null object\n",
      "dist_code                         493 non-null int64\n",
      "population_total                  493 non-null int64\n",
      "population_male                   493 non-null int64\n",
      "population_female                 493 non-null int64\n",
      "0-6_population_total              493 non-null int64\n",
      "0-6_population_male               493 non-null int64\n",
      "0-6_population_female             493 non-null int64\n",
      "literates_total                   493 non-null int64\n",
      "literates_male                    493 non-null int64\n",
      "literates_female                  493 non-null int64\n",
      "sex_ratio                         493 non-null int64\n",
      "child_sex_ratio                   493 non-null int64\n",
      "effective_literacy_rate_total     493 non-null float64\n",
      "effective_literacy_rate_male      493 non-null float64\n",
      "effective_literacy_rate_female    493 non-null float64\n",
      "location                          493 non-null object\n",
      "total_graduates                   493 non-null int64\n",
      "male_graduates                    493 non-null int64\n",
      "female_graduates                  493 non-null int64\n",
      "latitude                          493 non-null float64\n",
      "longitude                         493 non-null float64\n",
      "Cluster                           493 non-null int32\n",
      "dtypes: float64(5), int32(1), int64(17), object(3)\n",
      "memory usage: 102.1+ KB\n",
      "time: 9 ms\n"
     ]
    }
   ],
   "source": [
    "temp3.info()"
   ]
  },
  {
   "cell_type": "code",
   "execution_count": 72,
   "metadata": {},
   "outputs": [
    {
     "data": {
      "text/plain": [
       "0    357\n",
       "7     77\n",
       "3     35\n",
       "6     11\n",
       "4      5\n",
       "1      4\n",
       "5      2\n",
       "2      2\n",
       "Name: Cluster, dtype: int64"
      ]
     },
     "execution_count": 72,
     "metadata": {},
     "output_type": "execute_result"
    },
    {
     "name": "stdout",
     "output_type": "stream",
     "text": [
      "time: 6 ms\n"
     ]
    }
   ],
   "source": [
    "temp3['Cluster'].value_counts()"
   ]
  },
  {
   "cell_type": "code",
   "execution_count": 73,
   "metadata": {},
   "outputs": [
    {
     "name": "stdout",
     "output_type": "stream",
     "text": [
      "{1: 'red', 2: 'blue', 3: 'yellow', 4: 'black', 5: 'cyan', 6: 'voilet', 7: 'grey'}\n",
      "time: 3.74 s\n"
     ]
    }
   ],
   "source": [
    "import folium\n",
    "map1 = folium.Map()\n",
    "#color={1:'red',2:'blue',4:'grey',3:'green'}\n",
    "fcolor={1:'red',2:'blue',4:'black',3:'yellow',5:'cyan',6:'voilet',7:'grey'}\n",
    "print fcolor\n",
    "for X in set(temp3['Cluster']):\n",
    "    if X==0:\n",
    "        continue\n",
    "    for eq in temp3[temp3['Cluster']==X].iterrows():\n",
    "        folium.CircleMarker([eq[1]['latitude'], eq[1]['longitude']], popup=str(eq[1]['name_of_city'])+', Cluster '+str(eq[1]['Cluster']),radius=12-X*1.5,fill_color=fcolor[X],color=fcolor[X]).add_to(map1)\n",
    "        #print eq[1]['name_of_city']\n"
   ]
  },
  {
   "cell_type": "code",
   "execution_count": 74,
   "metadata": {},
   "outputs": [
    {
     "data": {
      "text/html": [
       "<div style=\"width:100%;\"><div style=\"position:relative;width:100%;height:0;padding-bottom:60%;\"><iframe src=\"data:text/html;charset=utf-8;base64,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\" style=\"position:absolute;width:100%;height:100%;left:0;top:0;border:none !important;\" allowfullscreen webkitallowfullscreen mozallowfullscreen></iframe></div></div>"
      ],
      "text/plain": [
       "<folium.folium.Map at 0xc75dfd0>"
      ]
     },
     "execution_count": 74,
     "metadata": {},
     "output_type": "execute_result"
    },
    {
     "name": "stdout",
     "output_type": "stream",
     "text": [
      "time: 342 ms\n"
     ]
    }
   ],
   "source": [
    "map1"
   ]
  },
  {
   "cell_type": "code",
   "execution_count": null,
   "metadata": {
    "collapsed": true
   },
   "outputs": [],
   "source": []
  },
  {
   "cell_type": "code",
   "execution_count": 75,
   "metadata": {},
   "outputs": [
    {
     "name": "stdout",
     "output_type": "stream",
     "text": [
      "time: 8 ms\n"
     ]
    }
   ],
   "source": [
    "X=data[feat].set_index('citycode')"
   ]
  },
  {
   "cell_type": "code",
   "execution_count": 76,
   "metadata": {},
   "outputs": [
    {
     "name": "stdout",
     "output_type": "stream",
     "text": [
      "time: 144 ms\n"
     ]
    }
   ],
   "source": [
    "from sklearn.cluster import KMeans\n",
    "kmeans = KMeans(n_clusters=12, random_state=0).fit(X)"
   ]
  },
  {
   "cell_type": "code",
   "execution_count": 77,
   "metadata": {},
   "outputs": [
    {
     "name": "stdout",
     "output_type": "stream",
     "text": [
      "time: 4 ms\n"
     ]
    }
   ],
   "source": [
    "X['Cluster']=kmeans.labels_"
   ]
  },
  {
   "cell_type": "code",
   "execution_count": 78,
   "metadata": {},
   "outputs": [
    {
     "name": "stdout",
     "output_type": "stream",
     "text": [
      "time: 113 ms\n"
     ]
    }
   ],
   "source": [
    "temp4=pd.merge(data,X.reset_index())"
   ]
  },
  {
   "cell_type": "code",
   "execution_count": 79,
   "metadata": {},
   "outputs": [
    {
     "name": "stdout",
     "output_type": "stream",
     "text": [
      "<class 'pandas.core.frame.DataFrame'>\n",
      "Int64Index: 493 entries, 0 to 492\n",
      "Data columns (total 26 columns):\n",
      "citycode                          493 non-null int64\n",
      "name_of_city                      493 non-null object\n",
      "state_code                        493 non-null int64\n",
      "state_name                        493 non-null object\n",
      "dist_code                         493 non-null int64\n",
      "population_total                  493 non-null int64\n",
      "population_male                   493 non-null int64\n",
      "population_female                 493 non-null int64\n",
      "0-6_population_total              493 non-null int64\n",
      "0-6_population_male               493 non-null int64\n",
      "0-6_population_female             493 non-null int64\n",
      "literates_total                   493 non-null int64\n",
      "literates_male                    493 non-null int64\n",
      "literates_female                  493 non-null int64\n",
      "sex_ratio                         493 non-null int64\n",
      "child_sex_ratio                   493 non-null int64\n",
      "effective_literacy_rate_total     493 non-null float64\n",
      "effective_literacy_rate_male      493 non-null float64\n",
      "effective_literacy_rate_female    493 non-null float64\n",
      "location                          493 non-null object\n",
      "total_graduates                   493 non-null int64\n",
      "male_graduates                    493 non-null int64\n",
      "female_graduates                  493 non-null int64\n",
      "latitude                          493 non-null float64\n",
      "longitude                         493 non-null float64\n",
      "Cluster                           493 non-null int32\n",
      "dtypes: float64(5), int32(1), int64(17), object(3)\n",
      "memory usage: 102.1+ KB\n",
      "time: 121 ms\n"
     ]
    }
   ],
   "source": [
    "temp4.info()"
   ]
  },
  {
   "cell_type": "code",
   "execution_count": 80,
   "metadata": {},
   "outputs": [
    {
     "data": {
      "text/plain": [
       "9     280\n",
       "0     104\n",
       "7      50\n",
       "3      35\n",
       "6      11\n",
       "4       5\n",
       "1       3\n",
       "11      1\n",
       "10      1\n",
       "8       1\n",
       "5       1\n",
       "2       1\n",
       "Name: Cluster, dtype: int64"
      ]
     },
     "execution_count": 80,
     "metadata": {},
     "output_type": "execute_result"
    },
    {
     "name": "stdout",
     "output_type": "stream",
     "text": [
      "time: 7 ms\n"
     ]
    }
   ],
   "source": [
    "temp4['Cluster'].value_counts()"
   ]
  },
  {
   "cell_type": "code",
   "execution_count": 81,
   "metadata": {},
   "outputs": [
    {
     "name": "stdout",
     "output_type": "stream",
     "text": [
      "time: 9 ms\n"
     ]
    }
   ],
   "source": [
    "temp1['Cluster']=temp1['Cluster'].apply(lambda l: 'Cluster '+str(l))\n",
    "temp2['Cluster']=temp2['Cluster'].apply(lambda l: 'Cluster '+str(l))\n",
    "temp3['Cluster']=temp3['Cluster'].apply(lambda l: 'Cluster '+str(l))\n",
    "temp4['Cluster']=temp4['Cluster'].apply(lambda l: 'Cluster '+str(l))"
   ]
  },
  {
   "cell_type": "code",
   "execution_count": 82,
   "metadata": {},
   "outputs": [
    {
     "name": "stdout",
     "output_type": "stream",
     "text": [
      "time: 7 ms\n"
     ]
    }
   ],
   "source": [
    "temp1=temp1.rename(columns={'Cluster':'3-means'})\n",
    "temp2=temp2.rename(columns={'Cluster':'5-means'})\n",
    "temp3=temp3.rename(columns={'Cluster':'8-means'})\n",
    "temp4=temp4.rename(columns={'Cluster':'12-means'})"
   ]
  },
  {
   "cell_type": "code",
   "execution_count": 83,
   "metadata": {},
   "outputs": [
    {
     "name": "stdout",
     "output_type": "stream",
     "text": [
      "time: 15 ms\n"
     ]
    }
   ],
   "source": [
    "temp=pd.merge(temp1,temp2)"
   ]
  },
  {
   "cell_type": "code",
   "execution_count": 84,
   "metadata": {},
   "outputs": [
    {
     "name": "stdout",
     "output_type": "stream",
     "text": [
      "time: 31 ms\n"
     ]
    }
   ],
   "source": [
    "temp=pd.merge(temp,temp3 )\n",
    "temp=pd.merge(temp,temp4)"
   ]
  },
  {
   "cell_type": "code",
   "execution_count": 85,
   "metadata": {},
   "outputs": [
    {
     "name": "stdout",
     "output_type": "stream",
     "text": [
      "time: 48 ms\n"
     ]
    }
   ],
   "source": [
    "temp.to_csv('K-Means.csv',index=False)"
   ]
  },
  {
   "cell_type": "code",
   "execution_count": 86,
   "metadata": {},
   "outputs": [
    {
     "name": "stdout",
     "output_type": "stream",
     "text": [
      "<class 'pandas.core.frame.DataFrame'>\n",
      "Int64Index: 493 entries, 0 to 492\n",
      "Data columns (total 29 columns):\n",
      "citycode                          493 non-null int64\n",
      "name_of_city                      493 non-null object\n",
      "state_code                        493 non-null int64\n",
      "state_name                        493 non-null object\n",
      "dist_code                         493 non-null int64\n",
      "population_total                  493 non-null int64\n",
      "population_male                   493 non-null int64\n",
      "population_female                 493 non-null int64\n",
      "0-6_population_total              493 non-null int64\n",
      "0-6_population_male               493 non-null int64\n",
      "0-6_population_female             493 non-null int64\n",
      "literates_total                   493 non-null int64\n",
      "literates_male                    493 non-null int64\n",
      "literates_female                  493 non-null int64\n",
      "sex_ratio                         493 non-null int64\n",
      "child_sex_ratio                   493 non-null int64\n",
      "effective_literacy_rate_total     493 non-null float64\n",
      "effective_literacy_rate_male      493 non-null float64\n",
      "effective_literacy_rate_female    493 non-null float64\n",
      "location                          493 non-null object\n",
      "total_graduates                   493 non-null int64\n",
      "male_graduates                    493 non-null int64\n",
      "female_graduates                  493 non-null int64\n",
      "latitude                          493 non-null float64\n",
      "longitude                         493 non-null float64\n",
      "3-means                           493 non-null object\n",
      "5-means                           493 non-null object\n",
      "8-means                           493 non-null object\n",
      "12-means                          493 non-null object\n",
      "dtypes: float64(5), int64(17), object(7)\n",
      "memory usage: 115.5+ KB\n",
      "time: 9 ms\n"
     ]
    }
   ],
   "source": [
    "temp.info()"
   ]
  },
  {
   "cell_type": "code",
   "execution_count": null,
   "metadata": {
    "collapsed": true
   },
   "outputs": [],
   "source": []
  },
  {
   "cell_type": "code",
   "execution_count": null,
   "metadata": {
    "collapsed": true
   },
   "outputs": [],
   "source": []
  },
  {
   "cell_type": "code",
   "execution_count": null,
   "metadata": {
    "collapsed": true
   },
   "outputs": [],
   "source": []
  }
 ],
 "metadata": {
  "kernelspec": {
   "display_name": "Python [Root]",
   "language": "python",
   "name": "Python [Root]"
  },
  "language_info": {
   "codemirror_mode": {
    "name": "ipython",
    "version": 2
   },
   "file_extension": ".py",
   "mimetype": "text/x-python",
   "name": "python",
   "nbconvert_exporter": "python",
   "pygments_lexer": "ipython2",
   "version": "2.7.12"
  }
 },
 "nbformat": 4,
 "nbformat_minor": 1
}
