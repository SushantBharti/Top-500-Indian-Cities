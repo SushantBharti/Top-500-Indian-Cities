{
 "cells": [
  {
   "cell_type": "code",
   "execution_count": 1,
   "metadata": {
    "collapsed": true
   },
   "outputs": [],
   "source": [
    "import pandas as pd\n",
    "import numpy as np\n",
    "import matplotlib.pyplot as plt \n",
    "%matplotlib inline\n",
    "import warnings\n",
    "%load_ext autotime\n",
    "warnings.filterwarnings('ignore')"
   ]
  },
  {
   "cell_type": "code",
   "execution_count": 2,
   "metadata": {},
   "outputs": [
    {
     "name": "stdout",
     "output_type": "stream",
     "text": [
      "time: 37 ms\n"
     ]
    }
   ],
   "source": [
    "data =pd.read_csv('IndianCities.csv')"
   ]
  },
  {
   "cell_type": "markdown",
   "metadata": {},
   "source": [
    "\n",
    "```\n",
    "Data of 500 Cities with population more than 1 Lac by Census 2011\n",
    "\n",
    "'name_of_city'                  : Name of the City \n",
    "'state_code'                    : State Code of the City\n",
    "'state_name'                    : State Name of the City\n",
    "'dist_code'                     : District Code where the city belongs ( 99 means multiple district ) \n",
    "'population_total'              : Total Population\n",
    "'population_male'               : Male Population \n",
    "'population_female'             : Female Population\n",
    "'0-6_population_total'          : 0-6 Age Total Population\n",
    "'0-6_population_male'           : 0-6 Age Male Population\n",
    "'0-6_population_female'         : 0-6 Age Female Population\n",
    "'literates_total'               : Total Literates\n",
    "'literates_male'                : Male Literates\n",
    "'literates_female'              : Female Literates \n",
    "'sex_ratio'                     : Sex Ratio \n",
    "'child_sex_ratio'               : Sex ratio in 0-6\n",
    "'effective_literacy_rate_total' : Literacy rate over Age 7 \n",
    "'effective_literacy_rate_male'  : Male Literacy rate over Age 7 \n",
    "'effective_literacy_rate_female': Female Literacy rate over Age 7 \n",
    "'location'                      : Lat,Lng\n",
    "'total_graduates'               : Total Number of Graduates\n",
    "'male_graduates'                : Male Graduates \n",
    "'female_graduates'              : Female Graduates\n",
    "```"
   ]
  },
  {
   "cell_type": "code",
   "execution_count": 3,
   "metadata": {},
   "outputs": [
    {
     "name": "stdout",
     "output_type": "stream",
     "text": [
      "<class 'pandas.core.frame.DataFrame'>\n",
      "RangeIndex: 493 entries, 0 to 492\n",
      "Data columns (total 22 columns):\n",
      "name_of_city                      493 non-null object\n",
      "state_code                        493 non-null int64\n",
      "state_name                        493 non-null object\n",
      "dist_code                         493 non-null int64\n",
      "population_total                  493 non-null int64\n",
      "population_male                   493 non-null int64\n",
      "population_female                 493 non-null int64\n",
      "0-6_population_total              493 non-null int64\n",
      "0-6_population_male               493 non-null int64\n",
      "0-6_population_female             493 non-null int64\n",
      "literates_total                   493 non-null int64\n",
      "literates_male                    493 non-null int64\n",
      "literates_female                  493 non-null int64\n",
      "sex_ratio                         493 non-null int64\n",
      "child_sex_ratio                   493 non-null int64\n",
      "effective_literacy_rate_total     493 non-null float64\n",
      "effective_literacy_rate_male      493 non-null float64\n",
      "effective_literacy_rate_female    493 non-null float64\n",
      "location                          493 non-null object\n",
      "total_graduates                   493 non-null int64\n",
      "male_graduates                    493 non-null int64\n",
      "female_graduates                  493 non-null int64\n",
      "dtypes: float64(3), int64(16), object(3)\n",
      "memory usage: 84.8+ KB\n",
      "time: 48 ms\n"
     ]
    }
   ],
   "source": [
    "data.info()"
   ]
  },
  {
   "cell_type": "code",
   "execution_count": 4,
   "metadata": {},
   "outputs": [
    {
     "data": {
      "text/html": [
       "<div>\n",
       "<style>\n",
       "    .dataframe thead tr:only-child th {\n",
       "        text-align: right;\n",
       "    }\n",
       "\n",
       "    .dataframe thead th {\n",
       "        text-align: left;\n",
       "    }\n",
       "\n",
       "    .dataframe tbody tr th {\n",
       "        vertical-align: top;\n",
       "    }\n",
       "</style>\n",
       "<table border=\"1\" class=\"dataframe\">\n",
       "  <thead>\n",
       "    <tr style=\"text-align: right;\">\n",
       "      <th></th>\n",
       "      <th>name_of_city</th>\n",
       "      <th>state_name</th>\n",
       "      <th>location</th>\n",
       "    </tr>\n",
       "  </thead>\n",
       "  <tbody>\n",
       "    <tr>\n",
       "      <th>count</th>\n",
       "      <td>493</td>\n",
       "      <td>493</td>\n",
       "      <td>493</td>\n",
       "    </tr>\n",
       "    <tr>\n",
       "      <th>unique</th>\n",
       "      <td>492</td>\n",
       "      <td>29</td>\n",
       "      <td>490</td>\n",
       "    </tr>\n",
       "    <tr>\n",
       "      <th>top</th>\n",
       "      <td>Aurangabad</td>\n",
       "      <td>UTTAR PRADESH</td>\n",
       "      <td>26.449923,80.3318736</td>\n",
       "    </tr>\n",
       "    <tr>\n",
       "      <th>freq</th>\n",
       "      <td>2</td>\n",
       "      <td>63</td>\n",
       "      <td>2</td>\n",
       "    </tr>\n",
       "  </tbody>\n",
       "</table>\n",
       "</div>"
      ],
      "text/plain": [
       "       name_of_city     state_name              location\n",
       "count           493            493                   493\n",
       "unique          492             29                   490\n",
       "top     Aurangabad   UTTAR PRADESH  26.449923,80.3318736\n",
       "freq              2             63                     2"
      ]
     },
     "execution_count": 4,
     "metadata": {},
     "output_type": "execute_result"
    },
    {
     "name": "stdout",
     "output_type": "stream",
     "text": [
      "time: 25 ms\n"
     ]
    }
   ],
   "source": [
    "data.describe(include=['object'])"
   ]
  },
  {
   "cell_type": "code",
   "execution_count": 5,
   "metadata": {},
   "outputs": [
    {
     "name": "stdout",
     "output_type": "stream",
     "text": [
      "time: 4 ms\n"
     ]
    }
   ],
   "source": [
    "data=data.reset_index().rename(columns={'index':'citycode'})"
   ]
  },
  {
   "cell_type": "code",
   "execution_count": 6,
   "metadata": {},
   "outputs": [
    {
     "name": "stdout",
     "output_type": "stream",
     "text": [
      "time: 24 ms\n"
     ]
    }
   ],
   "source": [
    "for i in data.describe(include=['object']).columns.tolist():\n",
    "    data[i]=data[i].apply(lambda l: l.strip())"
   ]
  },
  {
   "cell_type": "code",
   "execution_count": 7,
   "metadata": {},
   "outputs": [
    {
     "data": {
      "text/html": [
       "<div>\n",
       "<style>\n",
       "    .dataframe thead tr:only-child th {\n",
       "        text-align: right;\n",
       "    }\n",
       "\n",
       "    .dataframe thead th {\n",
       "        text-align: left;\n",
       "    }\n",
       "\n",
       "    .dataframe tbody tr th {\n",
       "        vertical-align: top;\n",
       "    }\n",
       "</style>\n",
       "<table border=\"1\" class=\"dataframe\">\n",
       "  <thead>\n",
       "    <tr style=\"text-align: right;\">\n",
       "      <th></th>\n",
       "      <th>citycode</th>\n",
       "      <th>name_of_city</th>\n",
       "      <th>state_code</th>\n",
       "      <th>state_name</th>\n",
       "      <th>dist_code</th>\n",
       "      <th>population_total</th>\n",
       "      <th>population_male</th>\n",
       "      <th>population_female</th>\n",
       "      <th>0-6_population_total</th>\n",
       "      <th>0-6_population_male</th>\n",
       "      <th>...</th>\n",
       "      <th>literates_female</th>\n",
       "      <th>sex_ratio</th>\n",
       "      <th>child_sex_ratio</th>\n",
       "      <th>effective_literacy_rate_total</th>\n",
       "      <th>effective_literacy_rate_male</th>\n",
       "      <th>effective_literacy_rate_female</th>\n",
       "      <th>location</th>\n",
       "      <th>total_graduates</th>\n",
       "      <th>male_graduates</th>\n",
       "      <th>female_graduates</th>\n",
       "    </tr>\n",
       "  </thead>\n",
       "  <tbody>\n",
       "    <tr>\n",
       "      <th>34</th>\n",
       "      <td>34</td>\n",
       "      <td>Aurangabad</td>\n",
       "      <td>10</td>\n",
       "      <td>BIHAR</td>\n",
       "      <td>33</td>\n",
       "      <td>101520</td>\n",
       "      <td>53307</td>\n",
       "      <td>48213</td>\n",
       "      <td>14292</td>\n",
       "      <td>7548</td>\n",
       "      <td>...</td>\n",
       "      <td>33458</td>\n",
       "      <td>904</td>\n",
       "      <td>893</td>\n",
       "      <td>86.89</td>\n",
       "      <td>92.52</td>\n",
       "      <td>80.68</td>\n",
       "      <td>24.7457189,84.3804888</td>\n",
       "      <td>13141</td>\n",
       "      <td>9371</td>\n",
       "      <td>3770</td>\n",
       "    </tr>\n",
       "    <tr>\n",
       "      <th>35</th>\n",
       "      <td>35</td>\n",
       "      <td>Aurangabad</td>\n",
       "      <td>27</td>\n",
       "      <td>MAHARASHTRA</td>\n",
       "      <td>19</td>\n",
       "      <td>1171330</td>\n",
       "      <td>610377</td>\n",
       "      <td>560953</td>\n",
       "      <td>151827</td>\n",
       "      <td>81671</td>\n",
       "      <td>...</td>\n",
       "      <td>411321</td>\n",
       "      <td>919</td>\n",
       "      <td>859</td>\n",
       "      <td>89.13</td>\n",
       "      <td>94.08</td>\n",
       "      <td>83.81</td>\n",
       "      <td>19.8761653,75.3433139</td>\n",
       "      <td>159308</td>\n",
       "      <td>96576</td>\n",
       "      <td>62732</td>\n",
       "    </tr>\n",
       "  </tbody>\n",
       "</table>\n",
       "<p>2 rows × 23 columns</p>\n",
       "</div>"
      ],
      "text/plain": [
       "    citycode name_of_city  state_code   state_name  dist_code  \\\n",
       "34        34   Aurangabad          10        BIHAR         33   \n",
       "35        35   Aurangabad          27  MAHARASHTRA         19   \n",
       "\n",
       "    population_total  population_male  population_female  \\\n",
       "34            101520            53307              48213   \n",
       "35           1171330           610377             560953   \n",
       "\n",
       "    0-6_population_total  0-6_population_male       ...         \\\n",
       "34                 14292                 7548       ...          \n",
       "35                151827                81671       ...          \n",
       "\n",
       "    literates_female  sex_ratio  child_sex_ratio  \\\n",
       "34             33458        904              893   \n",
       "35            411321        919              859   \n",
       "\n",
       "    effective_literacy_rate_total  effective_literacy_rate_male  \\\n",
       "34                          86.89                         92.52   \n",
       "35                          89.13                         94.08   \n",
       "\n",
       "    effective_literacy_rate_female               location  total_graduates  \\\n",
       "34                           80.68  24.7457189,84.3804888            13141   \n",
       "35                           83.81  19.8761653,75.3433139           159308   \n",
       "\n",
       "    male_graduates female_graduates  \n",
       "34            9371             3770  \n",
       "35           96576            62732  \n",
       "\n",
       "[2 rows x 23 columns]"
      ]
     },
     "execution_count": 7,
     "metadata": {},
     "output_type": "execute_result"
    },
    {
     "name": "stdout",
     "output_type": "stream",
     "text": [
      "time: 29 ms\n"
     ]
    }
   ],
   "source": [
    "data[data['name_of_city']=='Aurangabad']"
   ]
  },
  {
   "cell_type": "code",
   "execution_count": 8,
   "metadata": {},
   "outputs": [
    {
     "data": {
      "text/plain": [
       "['citycode',\n",
       " 'name_of_city',\n",
       " 'state_code',\n",
       " 'state_name',\n",
       " 'dist_code',\n",
       " 'population_total',\n",
       " 'population_male',\n",
       " 'population_female',\n",
       " '0-6_population_total',\n",
       " '0-6_population_male',\n",
       " '0-6_population_female',\n",
       " 'literates_total',\n",
       " 'literates_male',\n",
       " 'literates_female',\n",
       " 'sex_ratio',\n",
       " 'child_sex_ratio',\n",
       " 'effective_literacy_rate_total',\n",
       " 'effective_literacy_rate_male',\n",
       " 'effective_literacy_rate_female',\n",
       " 'location',\n",
       " 'total_graduates',\n",
       " 'male_graduates',\n",
       " 'female_graduates']"
      ]
     },
     "execution_count": 8,
     "metadata": {},
     "output_type": "execute_result"
    },
    {
     "name": "stdout",
     "output_type": "stream",
     "text": [
      "time: 4 ms\n"
     ]
    }
   ],
   "source": [
    "data.columns.tolist()"
   ]
  },
  {
   "cell_type": "code",
   "execution_count": 9,
   "metadata": {},
   "outputs": [
    {
     "name": "stdout",
     "output_type": "stream",
     "text": [
      "time: 7 ms\n"
     ]
    }
   ],
   "source": [
    "data['latitude']=data['location'].apply(lambda l: float(l.split(',')[0]))\n",
    "data['longitude']=data['location'].apply(lambda l: float(l.split(',')[1]))"
   ]
  },
  {
   "cell_type": "code",
   "execution_count": 10,
   "metadata": {},
   "outputs": [
    {
     "name": "stdout",
     "output_type": "stream",
     "text": [
      "time: 6 ms\n"
     ]
    }
   ],
   "source": [
    "feat=['citycode',\n",
    " #'name_of_city',\n",
    " #'state_code',\n",
    " #'state_name',\n",
    " #'dist_code',\n",
    " 'population_total',\n",
    " 'population_male',\n",
    " 'population_female',\n",
    " '0-6_population_total',\n",
    " '0-6_population_male',\n",
    " '0-6_population_female',\n",
    " 'literates_total',\n",
    " 'literates_male',\n",
    " 'literates_female',\n",
    " 'sex_ratio',\n",
    " 'child_sex_ratio',\n",
    " 'effective_literacy_rate_total',\n",
    " 'effective_literacy_rate_male',\n",
    " 'effective_literacy_rate_female',\n",
    " #'location',\n",
    " 'total_graduates',\n",
    " 'male_graduates',\n",
    " 'female_graduates']"
   ]
  },
  {
   "cell_type": "code",
   "execution_count": 38,
   "metadata": {},
   "outputs": [
    {
     "name": "stdout",
     "output_type": "stream",
     "text": [
      "time: 4 ms\n"
     ]
    }
   ],
   "source": [
    "X=data[feat].set_index('citycode')"
   ]
  },
  {
   "cell_type": "code",
   "execution_count": 39,
   "metadata": {},
   "outputs": [
    {
     "data": {
      "text/html": [
       "<div>\n",
       "<style>\n",
       "    .dataframe thead tr:only-child th {\n",
       "        text-align: right;\n",
       "    }\n",
       "\n",
       "    .dataframe thead th {\n",
       "        text-align: left;\n",
       "    }\n",
       "\n",
       "    .dataframe tbody tr th {\n",
       "        vertical-align: top;\n",
       "    }\n",
       "</style>\n",
       "<table border=\"1\" class=\"dataframe\">\n",
       "  <thead>\n",
       "    <tr style=\"text-align: right;\">\n",
       "      <th></th>\n",
       "      <th>population_total</th>\n",
       "      <th>population_male</th>\n",
       "      <th>population_female</th>\n",
       "      <th>0-6_population_total</th>\n",
       "      <th>0-6_population_male</th>\n",
       "      <th>0-6_population_female</th>\n",
       "      <th>literates_total</th>\n",
       "      <th>literates_male</th>\n",
       "      <th>literates_female</th>\n",
       "      <th>sex_ratio</th>\n",
       "      <th>child_sex_ratio</th>\n",
       "      <th>effective_literacy_rate_total</th>\n",
       "      <th>effective_literacy_rate_male</th>\n",
       "      <th>effective_literacy_rate_female</th>\n",
       "      <th>total_graduates</th>\n",
       "      <th>male_graduates</th>\n",
       "      <th>female_graduates</th>\n",
       "    </tr>\n",
       "    <tr>\n",
       "      <th>citycode</th>\n",
       "      <th></th>\n",
       "      <th></th>\n",
       "      <th></th>\n",
       "      <th></th>\n",
       "      <th></th>\n",
       "      <th></th>\n",
       "      <th></th>\n",
       "      <th></th>\n",
       "      <th></th>\n",
       "      <th></th>\n",
       "      <th></th>\n",
       "      <th></th>\n",
       "      <th></th>\n",
       "      <th></th>\n",
       "      <th></th>\n",
       "      <th></th>\n",
       "      <th></th>\n",
       "    </tr>\n",
       "  </thead>\n",
       "  <tbody>\n",
       "    <tr>\n",
       "      <th>0</th>\n",
       "      <td>145238</td>\n",
       "      <td>76840</td>\n",
       "      <td>68398</td>\n",
       "      <td>15870</td>\n",
       "      <td>8587</td>\n",
       "      <td>7283</td>\n",
       "      <td>103319</td>\n",
       "      <td>58347</td>\n",
       "      <td>44972</td>\n",
       "      <td>890</td>\n",
       "      <td>848</td>\n",
       "      <td>79.86</td>\n",
       "      <td>85.49</td>\n",
       "      <td>73.59</td>\n",
       "      <td>16287</td>\n",
       "      <td>8612</td>\n",
       "      <td>7675</td>\n",
       "    </tr>\n",
       "    <tr>\n",
       "      <th>1</th>\n",
       "      <td>112293</td>\n",
       "      <td>58256</td>\n",
       "      <td>54037</td>\n",
       "      <td>11810</td>\n",
       "      <td>6186</td>\n",
       "      <td>5624</td>\n",
       "      <td>92433</td>\n",
       "      <td>49347</td>\n",
       "      <td>43086</td>\n",
       "      <td>928</td>\n",
       "      <td>909</td>\n",
       "      <td>91.99</td>\n",
       "      <td>94.77</td>\n",
       "      <td>89.00</td>\n",
       "      <td>8863</td>\n",
       "      <td>5269</td>\n",
       "      <td>3594</td>\n",
       "    </tr>\n",
       "    <tr>\n",
       "      <th>2</th>\n",
       "      <td>117388</td>\n",
       "      <td>59232</td>\n",
       "      <td>58156</td>\n",
       "      <td>13103</td>\n",
       "      <td>6731</td>\n",
       "      <td>6372</td>\n",
       "      <td>83955</td>\n",
       "      <td>46295</td>\n",
       "      <td>37660</td>\n",
       "      <td>982</td>\n",
       "      <td>947</td>\n",
       "      <td>80.51</td>\n",
       "      <td>88.18</td>\n",
       "      <td>72.73</td>\n",
       "      <td>10565</td>\n",
       "      <td>6797</td>\n",
       "      <td>3768</td>\n",
       "    </tr>\n",
       "    <tr>\n",
       "      <th>3</th>\n",
       "      <td>173988</td>\n",
       "      <td>91495</td>\n",
       "      <td>82493</td>\n",
       "      <td>23042</td>\n",
       "      <td>12063</td>\n",
       "      <td>10979</td>\n",
       "      <td>125985</td>\n",
       "      <td>71470</td>\n",
       "      <td>54515</td>\n",
       "      <td>902</td>\n",
       "      <td>910</td>\n",
       "      <td>83.46</td>\n",
       "      <td>89.98</td>\n",
       "      <td>76.23</td>\n",
       "      <td>19225</td>\n",
       "      <td>12189</td>\n",
       "      <td>7036</td>\n",
       "    </tr>\n",
       "    <tr>\n",
       "      <th>4</th>\n",
       "      <td>166537</td>\n",
       "      <td>82743</td>\n",
       "      <td>83794</td>\n",
       "      <td>18406</td>\n",
       "      <td>9355</td>\n",
       "      <td>9051</td>\n",
       "      <td>101292</td>\n",
       "      <td>56203</td>\n",
       "      <td>45089</td>\n",
       "      <td>1013</td>\n",
       "      <td>968</td>\n",
       "      <td>68.38</td>\n",
       "      <td>76.58</td>\n",
       "      <td>60.33</td>\n",
       "      <td>11902</td>\n",
       "      <td>7871</td>\n",
       "      <td>4031</td>\n",
       "    </tr>\n",
       "  </tbody>\n",
       "</table>\n",
       "</div>"
      ],
      "text/plain": [
       "          population_total  population_male  population_female  \\\n",
       "citycode                                                         \n",
       "0                   145238            76840              68398   \n",
       "1                   112293            58256              54037   \n",
       "2                   117388            59232              58156   \n",
       "3                   173988            91495              82493   \n",
       "4                   166537            82743              83794   \n",
       "\n",
       "          0-6_population_total  0-6_population_male  0-6_population_female  \\\n",
       "citycode                                                                     \n",
       "0                        15870                 8587                   7283   \n",
       "1                        11810                 6186                   5624   \n",
       "2                        13103                 6731                   6372   \n",
       "3                        23042                12063                  10979   \n",
       "4                        18406                 9355                   9051   \n",
       "\n",
       "          literates_total  literates_male  literates_female  sex_ratio  \\\n",
       "citycode                                                                 \n",
       "0                  103319           58347             44972        890   \n",
       "1                   92433           49347             43086        928   \n",
       "2                   83955           46295             37660        982   \n",
       "3                  125985           71470             54515        902   \n",
       "4                  101292           56203             45089       1013   \n",
       "\n",
       "          child_sex_ratio  effective_literacy_rate_total  \\\n",
       "citycode                                                   \n",
       "0                     848                          79.86   \n",
       "1                     909                          91.99   \n",
       "2                     947                          80.51   \n",
       "3                     910                          83.46   \n",
       "4                     968                          68.38   \n",
       "\n",
       "          effective_literacy_rate_male  effective_literacy_rate_female  \\\n",
       "citycode                                                                 \n",
       "0                                85.49                           73.59   \n",
       "1                                94.77                           89.00   \n",
       "2                                88.18                           72.73   \n",
       "3                                89.98                           76.23   \n",
       "4                                76.58                           60.33   \n",
       "\n",
       "          total_graduates  male_graduates  female_graduates  \n",
       "citycode                                                     \n",
       "0                   16287            8612              7675  \n",
       "1                    8863            5269              3594  \n",
       "2                   10565            6797              3768  \n",
       "3                   19225           12189              7036  \n",
       "4                   11902            7871              4031  "
      ]
     },
     "execution_count": 39,
     "metadata": {},
     "output_type": "execute_result"
    },
    {
     "name": "stdout",
     "output_type": "stream",
     "text": [
      "time: 30 ms\n"
     ]
    }
   ],
   "source": [
    "X.head()"
   ]
  },
  {
   "cell_type": "code",
   "execution_count": 40,
   "metadata": {},
   "outputs": [
    {
     "name": "stdout",
     "output_type": "stream",
     "text": [
      "time: 39 ms\n"
     ]
    }
   ],
   "source": [
    "from sklearn.cluster import KMeans\n",
    "kmeans = KMeans(n_clusters=3, random_state=0).fit(X)"
   ]
  },
  {
   "cell_type": "code",
   "execution_count": 41,
   "metadata": {},
   "outputs": [
    {
     "name": "stdout",
     "output_type": "stream",
     "text": [
      "time: 3 ms\n"
     ]
    }
   ],
   "source": [
    "X['Cluster']=kmeans.labels_"
   ]
  },
  {
   "cell_type": "code",
   "execution_count": 42,
   "metadata": {},
   "outputs": [
    {
     "name": "stdout",
     "output_type": "stream",
     "text": [
      "time: 13 ms\n"
     ]
    }
   ],
   "source": [
    "temp1=pd.merge(data,X.reset_index())"
   ]
  },
  {
   "cell_type": "code",
   "execution_count": 43,
   "metadata": {},
   "outputs": [
    {
     "name": "stdout",
     "output_type": "stream",
     "text": [
      "<class 'pandas.core.frame.DataFrame'>\n",
      "Int64Index: 493 entries, 0 to 492\n",
      "Data columns (total 26 columns):\n",
      "citycode                          493 non-null int64\n",
      "name_of_city                      493 non-null object\n",
      "state_code                        493 non-null int64\n",
      "state_name                        493 non-null object\n",
      "dist_code                         493 non-null int64\n",
      "population_total                  493 non-null int64\n",
      "population_male                   493 non-null int64\n",
      "population_female                 493 non-null int64\n",
      "0-6_population_total              493 non-null int64\n",
      "0-6_population_male               493 non-null int64\n",
      "0-6_population_female             493 non-null int64\n",
      "literates_total                   493 non-null int64\n",
      "literates_male                    493 non-null int64\n",
      "literates_female                  493 non-null int64\n",
      "sex_ratio                         493 non-null int64\n",
      "child_sex_ratio                   493 non-null int64\n",
      "effective_literacy_rate_total     493 non-null float64\n",
      "effective_literacy_rate_male      493 non-null float64\n",
      "effective_literacy_rate_female    493 non-null float64\n",
      "location                          493 non-null object\n",
      "total_graduates                   493 non-null int64\n",
      "male_graduates                    493 non-null int64\n",
      "female_graduates                  493 non-null int64\n",
      "latitude                          493 non-null float64\n",
      "longitude                         493 non-null float64\n",
      "Cluster                           493 non-null int32\n",
      "dtypes: float64(5), int32(1), int64(17), object(3)\n",
      "memory usage: 102.1+ KB\n",
      "time: 8 ms\n"
     ]
    }
   ],
   "source": [
    "temp1.info()"
   ]
  },
  {
   "cell_type": "code",
   "execution_count": 44,
   "metadata": {},
   "outputs": [
    {
     "data": {
      "text/plain": [
       "0    480\n",
       "1     10\n",
       "2      3\n",
       "Name: Cluster, dtype: int64"
      ]
     },
     "execution_count": 44,
     "metadata": {},
     "output_type": "execute_result"
    },
    {
     "name": "stdout",
     "output_type": "stream",
     "text": [
      "time: 8 ms\n"
     ]
    }
   ],
   "source": [
    "temp1['Cluster'].value_counts()"
   ]
  },
  {
   "cell_type": "code",
   "execution_count": 45,
   "metadata": {},
   "outputs": [
    {
     "name": "stdout",
     "output_type": "stream",
     "text": [
      "{1: 'red', 2: 'blue', 3: 'green', 4: 'white'}\n",
      "time: 443 ms\n"
     ]
    }
   ],
   "source": [
    "import folium\n",
    "map1 = folium.Map()\n",
    "color={1:'red',2:'blue',4:'grey',3:'yellow'}\n",
    "fcolor={1:'red',2:'blue',4:'white',3:'green'}\n",
    "print fcolor\n",
    "for X in set(temp1['Cluster']):\n",
    "    if X==0:\n",
    "        continue\n",
    "    for eq in temp1[temp1['Cluster']==X].iterrows():\n",
    "        folium.CircleMarker([eq[1]['latitude'], eq[1]['longitude']], popup=eq[1]['name_of_city'],radius=10-X*1.5,fill_color=fcolor[X],color=color[X]).add_to(map1)\n",
    "        #print eq[1]['name_of_city']\n"
   ]
  },
  {
   "cell_type": "code",
   "execution_count": 46,
   "metadata": {},
   "outputs": [
    {
     "data": {
      "text/html": [
       "<div style=\"width:100%;\"><div style=\"position:relative;width:100%;height:0;padding-bottom:60%;\"><iframe src=\"data:text/html;charset=utf-8;base64,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\" style=\"position:absolute;width:100%;height:100%;left:0;top:0;border:none !important;\" allowfullscreen webkitallowfullscreen mozallowfullscreen></iframe></div></div>"
      ],
      "text/plain": [
       "<folium.folium.Map at 0xc246ef0>"
      ]
     },
     "execution_count": 46,
     "metadata": {},
     "output_type": "execute_result"
    },
    {
     "name": "stdout",
     "output_type": "stream",
     "text": [
      "time: 84 ms\n"
     ]
    }
   ],
   "source": [
    "map1"
   ]
  },
  {
   "cell_type": "code",
   "execution_count": 47,
   "metadata": {},
   "outputs": [
    {
     "name": "stdout",
     "output_type": "stream",
     "text": [
      "time: 5 ms\n"
     ]
    }
   ],
   "source": [
    "X=data[feat].set_index('citycode')"
   ]
  },
  {
   "cell_type": "code",
   "execution_count": 48,
   "metadata": {},
   "outputs": [
    {
     "name": "stdout",
     "output_type": "stream",
     "text": [
      "time: 47 ms\n"
     ]
    }
   ],
   "source": [
    "from sklearn.cluster import KMeans\n",
    "kmeans = KMeans(n_clusters=5, random_state=0).fit(X)"
   ]
  },
  {
   "cell_type": "code",
   "execution_count": 49,
   "metadata": {},
   "outputs": [
    {
     "name": "stdout",
     "output_type": "stream",
     "text": [
      "time: 3 ms\n"
     ]
    }
   ],
   "source": [
    "X['Cluster']=kmeans.labels_"
   ]
  },
  {
   "cell_type": "code",
   "execution_count": 50,
   "metadata": {},
   "outputs": [
    {
     "name": "stdout",
     "output_type": "stream",
     "text": [
      "time: 15 ms\n"
     ]
    }
   ],
   "source": [
    "temp2=pd.merge(data,X.reset_index())"
   ]
  },
  {
   "cell_type": "code",
   "execution_count": 51,
   "metadata": {},
   "outputs": [
    {
     "name": "stdout",
     "output_type": "stream",
     "text": [
      "<class 'pandas.core.frame.DataFrame'>\n",
      "Int64Index: 493 entries, 0 to 492\n",
      "Data columns (total 26 columns):\n",
      "citycode                          493 non-null int64\n",
      "name_of_city                      493 non-null object\n",
      "state_code                        493 non-null int64\n",
      "state_name                        493 non-null object\n",
      "dist_code                         493 non-null int64\n",
      "population_total                  493 non-null int64\n",
      "population_male                   493 non-null int64\n",
      "population_female                 493 non-null int64\n",
      "0-6_population_total              493 non-null int64\n",
      "0-6_population_male               493 non-null int64\n",
      "0-6_population_female             493 non-null int64\n",
      "literates_total                   493 non-null int64\n",
      "literates_male                    493 non-null int64\n",
      "literates_female                  493 non-null int64\n",
      "sex_ratio                         493 non-null int64\n",
      "child_sex_ratio                   493 non-null int64\n",
      "effective_literacy_rate_total     493 non-null float64\n",
      "effective_literacy_rate_male      493 non-null float64\n",
      "effective_literacy_rate_female    493 non-null float64\n",
      "location                          493 non-null object\n",
      "total_graduates                   493 non-null int64\n",
      "male_graduates                    493 non-null int64\n",
      "female_graduates                  493 non-null int64\n",
      "latitude                          493 non-null float64\n",
      "longitude                         493 non-null float64\n",
      "Cluster                           493 non-null int32\n",
      "dtypes: float64(5), int32(1), int64(17), object(3)\n",
      "memory usage: 102.1+ KB\n",
      "time: 11 ms\n"
     ]
    }
   ],
   "source": [
    "temp2.info()"
   ]
  },
  {
   "cell_type": "code",
   "execution_count": 52,
   "metadata": {},
   "outputs": [
    {
     "data": {
      "text/plain": [
       "3    433\n",
       "0     47\n",
       "2      8\n",
       "1      3\n",
       "4      2\n",
       "Name: Cluster, dtype: int64"
      ]
     },
     "execution_count": 52,
     "metadata": {},
     "output_type": "execute_result"
    },
    {
     "name": "stdout",
     "output_type": "stream",
     "text": [
      "time: 6 ms\n"
     ]
    }
   ],
   "source": [
    "temp2['Cluster'].value_counts()"
   ]
  },
  {
   "cell_type": "code",
   "execution_count": 53,
   "metadata": {},
   "outputs": [
    {
     "name": "stdout",
     "output_type": "stream",
     "text": [
      "{0: 'yellow', 1: 'red', 2: 'blue', 4: 'white'}\n",
      "time: 1.83 s\n"
     ]
    }
   ],
   "source": [
    "import folium\n",
    "map1 = folium.Map()\n",
    "#color={1:'red',2:'blue',4:'grey',3:'green'}\n",
    "fcolor={1:'red',2:'blue',4:'white',0:'yellow'}\n",
    "print fcolor\n",
    "for X in set(temp2['Cluster']):\n",
    "    if X==3:\n",
    "        continue\n",
    "    for eq in temp2[temp2['Cluster']==X].iterrows():\n",
    "        folium.CircleMarker([eq[1]['latitude'], eq[1]['longitude']], popup=str(eq[1]['name_of_city'])+', Cluster '+str(eq[1]['Cluster']),radius=8-X*1.5,fill_color=fcolor[X],color=fcolor[X]).add_to(map1)\n",
    "        #print eq[1]['name_of_city']\n"
   ]
  },
  {
   "cell_type": "code",
   "execution_count": 54,
   "metadata": {},
   "outputs": [
    {
     "data": {
      "text/html": [
       "<div style=\"width:100%;\"><div style=\"position:relative;width:100%;height:0;padding-bottom:60%;\"><iframe src=\"data:text/html;charset=utf-8;base64,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\" style=\"position:absolute;width:100%;height:100%;left:0;top:0;border:none !important;\" allowfullscreen webkitallowfullscreen mozallowfullscreen></iframe></div></div>"
      ],
      "text/plain": [
       "<folium.folium.Map at 0xc4d24e0>"
      ]
     },
     "execution_count": 54,
     "metadata": {},
     "output_type": "execute_result"
    },
    {
     "name": "stdout",
     "output_type": "stream",
     "text": [
      "time: 217 ms\n"
     ]
    }
   ],
   "source": [
    "map1"
   ]
  },
  {
   "cell_type": "code",
   "execution_count": null,
   "metadata": {},
   "outputs": [],
   "source": []
  },
  {
   "cell_type": "code",
   "execution_count": 55,
   "metadata": {},
   "outputs": [
    {
     "name": "stdout",
     "output_type": "stream",
     "text": [
      "time: 8 ms\n"
     ]
    }
   ],
   "source": [
    "X=data[feat].set_index('citycode')"
   ]
  },
  {
   "cell_type": "code",
   "execution_count": 56,
   "metadata": {},
   "outputs": [
    {
     "name": "stdout",
     "output_type": "stream",
     "text": [
      "time: 54 ms\n"
     ]
    }
   ],
   "source": [
    "from sklearn.cluster import KMeans\n",
    "kmeans = KMeans(n_clusters=8, random_state=0).fit(X)"
   ]
  },
  {
   "cell_type": "code",
   "execution_count": 57,
   "metadata": {},
   "outputs": [
    {
     "name": "stdout",
     "output_type": "stream",
     "text": [
      "time: 2 ms\n"
     ]
    }
   ],
   "source": [
    "X['Cluster']=kmeans.labels_"
   ]
  },
  {
   "cell_type": "code",
   "execution_count": 58,
   "metadata": {},
   "outputs": [
    {
     "name": "stdout",
     "output_type": "stream",
     "text": [
      "time: 16 ms\n"
     ]
    }
   ],
   "source": [
    "temp3=pd.merge(data,X.reset_index())"
   ]
  },
  {
   "cell_type": "code",
   "execution_count": 59,
   "metadata": {},
   "outputs": [
    {
     "name": "stdout",
     "output_type": "stream",
     "text": [
      "<class 'pandas.core.frame.DataFrame'>\n",
      "Int64Index: 493 entries, 0 to 492\n",
      "Data columns (total 26 columns):\n",
      "citycode                          493 non-null int64\n",
      "name_of_city                      493 non-null object\n",
      "state_code                        493 non-null int64\n",
      "state_name                        493 non-null object\n",
      "dist_code                         493 non-null int64\n",
      "population_total                  493 non-null int64\n",
      "population_male                   493 non-null int64\n",
      "population_female                 493 non-null int64\n",
      "0-6_population_total              493 non-null int64\n",
      "0-6_population_male               493 non-null int64\n",
      "0-6_population_female             493 non-null int64\n",
      "literates_total                   493 non-null int64\n",
      "literates_male                    493 non-null int64\n",
      "literates_female                  493 non-null int64\n",
      "sex_ratio                         493 non-null int64\n",
      "child_sex_ratio                   493 non-null int64\n",
      "effective_literacy_rate_total     493 non-null float64\n",
      "effective_literacy_rate_male      493 non-null float64\n",
      "effective_literacy_rate_female    493 non-null float64\n",
      "location                          493 non-null object\n",
      "total_graduates                   493 non-null int64\n",
      "male_graduates                    493 non-null int64\n",
      "female_graduates                  493 non-null int64\n",
      "latitude                          493 non-null float64\n",
      "longitude                         493 non-null float64\n",
      "Cluster                           493 non-null int32\n",
      "dtypes: float64(5), int32(1), int64(17), object(3)\n",
      "memory usage: 102.1+ KB\n",
      "time: 12 ms\n"
     ]
    }
   ],
   "source": [
    "temp3.info()"
   ]
  },
  {
   "cell_type": "code",
   "execution_count": 60,
   "metadata": {},
   "outputs": [
    {
     "data": {
      "text/plain": [
       "0    357\n",
       "7     77\n",
       "3     35\n",
       "6     11\n",
       "4      5\n",
       "1      4\n",
       "5      2\n",
       "2      2\n",
       "Name: Cluster, dtype: int64"
      ]
     },
     "execution_count": 60,
     "metadata": {},
     "output_type": "execute_result"
    },
    {
     "name": "stdout",
     "output_type": "stream",
     "text": [
      "time: 6 ms\n"
     ]
    }
   ],
   "source": [
    "temp3['Cluster'].value_counts()"
   ]
  },
  {
   "cell_type": "code",
   "execution_count": 61,
   "metadata": {},
   "outputs": [
    {
     "name": "stdout",
     "output_type": "stream",
     "text": [
      "{1: 'red', 2: 'blue', 3: 'yellow', 4: 'black', 5: 'cyan', 6: 'voilet', 7: 'grey'}\n",
      "time: 3.89 s\n"
     ]
    }
   ],
   "source": [
    "import folium\n",
    "map1 = folium.Map()\n",
    "#color={1:'red',2:'blue',4:'grey',3:'green'}\n",
    "fcolor={1:'red',2:'blue',4:'black',3:'yellow',5:'cyan',6:'voilet',7:'grey'}\n",
    "print fcolor\n",
    "for X in set(temp3['Cluster']):\n",
    "    if X==0:\n",
    "        continue\n",
    "    for eq in temp3[temp3['Cluster']==X].iterrows():\n",
    "        folium.CircleMarker([eq[1]['latitude'], eq[1]['longitude']], popup=str(eq[1]['name_of_city'])+', Cluster '+str(eq[1]['Cluster']),radius=12-X*1.5,fill_color=fcolor[X],color=fcolor[X]).add_to(map1)\n",
    "        #print eq[1]['name_of_city']\n"
   ]
  },
  {
   "cell_type": "code",
   "execution_count": 62,
   "metadata": {},
   "outputs": [
    {
     "data": {
      "text/html": [
       "<div style=\"width:100%;\"><div style=\"position:relative;width:100%;height:0;padding-bottom:60%;\"><iframe src=\"data:text/html;charset=utf-8;base64,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\" style=\"position:absolute;width:100%;height:100%;left:0;top:0;border:none !important;\" allowfullscreen webkitallowfullscreen mozallowfullscreen></iframe></div></div>"
      ],
      "text/plain": [
       "<folium.folium.Map at 0xc945208>"
      ]
     },
     "execution_count": 62,
     "metadata": {},
     "output_type": "execute_result"
    },
    {
     "name": "stdout",
     "output_type": "stream",
     "text": [
      "time: 342 ms\n"
     ]
    }
   ],
   "source": [
    "map1"
   ]
  },
  {
   "cell_type": "code",
   "execution_count": null,
   "metadata": {
    "collapsed": true
   },
   "outputs": [],
   "source": []
  },
  {
   "cell_type": "code",
   "execution_count": 64,
   "metadata": {},
   "outputs": [
    {
     "name": "stdout",
     "output_type": "stream",
     "text": [
      "time: 4 ms\n"
     ]
    }
   ],
   "source": [
    "X=data[feat].set_index('citycode')"
   ]
  },
  {
   "cell_type": "code",
   "execution_count": 65,
   "metadata": {},
   "outputs": [
    {
     "name": "stdout",
     "output_type": "stream",
     "text": [
      "time: 87 ms\n"
     ]
    }
   ],
   "source": [
    "from sklearn.cluster import KMeans\n",
    "kmeans = KMeans(n_clusters=12, random_state=0).fit(X)"
   ]
  },
  {
   "cell_type": "code",
   "execution_count": 66,
   "metadata": {},
   "outputs": [
    {
     "name": "stdout",
     "output_type": "stream",
     "text": [
      "time: 2 ms\n"
     ]
    }
   ],
   "source": [
    "X['Cluster']=kmeans.labels_"
   ]
  },
  {
   "cell_type": "code",
   "execution_count": 67,
   "metadata": {},
   "outputs": [
    {
     "name": "stdout",
     "output_type": "stream",
     "text": [
      "time: 19 ms\n"
     ]
    }
   ],
   "source": [
    "temp4=pd.merge(data,X.reset_index())"
   ]
  },
  {
   "cell_type": "code",
   "execution_count": 68,
   "metadata": {},
   "outputs": [
    {
     "name": "stdout",
     "output_type": "stream",
     "text": [
      "<class 'pandas.core.frame.DataFrame'>\n",
      "Int64Index: 493 entries, 0 to 492\n",
      "Data columns (total 26 columns):\n",
      "citycode                          493 non-null int64\n",
      "name_of_city                      493 non-null object\n",
      "state_code                        493 non-null int64\n",
      "state_name                        493 non-null object\n",
      "dist_code                         493 non-null int64\n",
      "population_total                  493 non-null int64\n",
      "population_male                   493 non-null int64\n",
      "population_female                 493 non-null int64\n",
      "0-6_population_total              493 non-null int64\n",
      "0-6_population_male               493 non-null int64\n",
      "0-6_population_female             493 non-null int64\n",
      "literates_total                   493 non-null int64\n",
      "literates_male                    493 non-null int64\n",
      "literates_female                  493 non-null int64\n",
      "sex_ratio                         493 non-null int64\n",
      "child_sex_ratio                   493 non-null int64\n",
      "effective_literacy_rate_total     493 non-null float64\n",
      "effective_literacy_rate_male      493 non-null float64\n",
      "effective_literacy_rate_female    493 non-null float64\n",
      "location                          493 non-null object\n",
      "total_graduates                   493 non-null int64\n",
      "male_graduates                    493 non-null int64\n",
      "female_graduates                  493 non-null int64\n",
      "latitude                          493 non-null float64\n",
      "longitude                         493 non-null float64\n",
      "Cluster                           493 non-null int32\n",
      "dtypes: float64(5), int32(1), int64(17), object(3)\n",
      "memory usage: 102.1+ KB\n",
      "time: 9 ms\n"
     ]
    }
   ],
   "source": [
    "temp4.info()"
   ]
  },
  {
   "cell_type": "code",
   "execution_count": 69,
   "metadata": {},
   "outputs": [
    {
     "data": {
      "text/plain": [
       "9     280\n",
       "0     104\n",
       "7      50\n",
       "3      35\n",
       "6      11\n",
       "4       5\n",
       "1       3\n",
       "11      1\n",
       "10      1\n",
       "8       1\n",
       "5       1\n",
       "2       1\n",
       "Name: Cluster, dtype: int64"
      ]
     },
     "execution_count": 69,
     "metadata": {},
     "output_type": "execute_result"
    },
    {
     "name": "stdout",
     "output_type": "stream",
     "text": [
      "time: 8 ms\n"
     ]
    }
   ],
   "source": [
    "temp4['Cluster'].value_counts()"
   ]
  },
  {
   "cell_type": "code",
   "execution_count": 70,
   "metadata": {},
   "outputs": [
    {
     "name": "stdout",
     "output_type": "stream",
     "text": [
      "time: 8 ms\n"
     ]
    }
   ],
   "source": [
    "temp1['Cluster']=temp1['Cluster'].apply(lambda l: 'Cluster '+str(l))\n",
    "temp2['Cluster']=temp2['Cluster'].apply(lambda l: 'Cluster '+str(l))\n",
    "temp3['Cluster']=temp3['Cluster'].apply(lambda l: 'Cluster '+str(l))\n",
    "temp4['Cluster']=temp4['Cluster'].apply(lambda l: 'Cluster '+str(l))"
   ]
  },
  {
   "cell_type": "code",
   "execution_count": 83,
   "metadata": {},
   "outputs": [
    {
     "name": "stdout",
     "output_type": "stream",
     "text": [
      "time: 7 ms\n"
     ]
    }
   ],
   "source": [
    "temp1=temp1.rename(columns={'Cluster':'3-means'})\n",
    "temp2=temp2.rename(columns={'Cluster':'5-means'})\n",
    "temp3=temp3.rename(columns={'Cluster':'8-means'})\n",
    "temp4=temp4.rename(columns={'Cluster':'12-means'})"
   ]
  },
  {
   "cell_type": "code",
   "execution_count": 84,
   "metadata": {},
   "outputs": [
    {
     "name": "stdout",
     "output_type": "stream",
     "text": [
      "time: 16 ms\n"
     ]
    }
   ],
   "source": [
    "temp=pd.merge(temp1,temp2)"
   ]
  },
  {
   "cell_type": "code",
   "execution_count": 85,
   "metadata": {},
   "outputs": [
    {
     "name": "stdout",
     "output_type": "stream",
     "text": [
      "time: 34 ms\n"
     ]
    }
   ],
   "source": [
    "temp=pd.merge(temp,temp3 )\n",
    "temp=pd.merge(temp,temp4)"
   ]
  },
  {
   "cell_type": "code",
   "execution_count": 88,
   "metadata": {},
   "outputs": [
    {
     "name": "stdout",
     "output_type": "stream",
     "text": [
      "time: 80 ms\n"
     ]
    }
   ],
   "source": [
    "temp.to_csv('K-Means.csv',index=False)"
   ]
  },
  {
   "cell_type": "code",
   "execution_count": 89,
   "metadata": {},
   "outputs": [
    {
     "name": "stdout",
     "output_type": "stream",
     "text": [
      "<class 'pandas.core.frame.DataFrame'>\n",
      "Int64Index: 493 entries, 0 to 492\n",
      "Data columns (total 29 columns):\n",
      "citycode                          493 non-null int64\n",
      "name_of_city                      493 non-null object\n",
      "state_code                        493 non-null int64\n",
      "state_name                        493 non-null object\n",
      "dist_code                         493 non-null int64\n",
      "population_total                  493 non-null int64\n",
      "population_male                   493 non-null int64\n",
      "population_female                 493 non-null int64\n",
      "0-6_population_total              493 non-null int64\n",
      "0-6_population_male               493 non-null int64\n",
      "0-6_population_female             493 non-null int64\n",
      "literates_total                   493 non-null int64\n",
      "literates_male                    493 non-null int64\n",
      "literates_female                  493 non-null int64\n",
      "sex_ratio                         493 non-null int64\n",
      "child_sex_ratio                   493 non-null int64\n",
      "effective_literacy_rate_total     493 non-null float64\n",
      "effective_literacy_rate_male      493 non-null float64\n",
      "effective_literacy_rate_female    493 non-null float64\n",
      "location                          493 non-null object\n",
      "total_graduates                   493 non-null int64\n",
      "male_graduates                    493 non-null int64\n",
      "female_graduates                  493 non-null int64\n",
      "latitude                          493 non-null float64\n",
      "longitude                         493 non-null float64\n",
      "3-means                           493 non-null object\n",
      "5-means                           493 non-null object\n",
      "8-means                           493 non-null object\n",
      "12-means                          493 non-null object\n",
      "dtypes: float64(5), int64(17), object(7)\n",
      "memory usage: 115.5+ KB\n",
      "time: 8 ms\n"
     ]
    }
   ],
   "source": [
    "temp.info()"
   ]
  },
  {
   "cell_type": "code",
   "execution_count": null,
   "metadata": {
    "collapsed": true
   },
   "outputs": [],
   "source": []
  }
 ],
 "metadata": {
  "kernelspec": {
   "display_name": "Python [Root]",
   "language": "python",
   "name": "Python [Root]"
  },
  "language_info": {
   "codemirror_mode": {
    "name": "ipython",
    "version": 2
   },
   "file_extension": ".py",
   "mimetype": "text/x-python",
   "name": "python",
   "nbconvert_exporter": "python",
   "pygments_lexer": "ipython2",
   "version": "2.7.12"
  }
 },
 "nbformat": 4,
 "nbformat_minor": 1
}
